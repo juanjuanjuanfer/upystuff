{
 "cells": [
  {
   "cell_type": "code",
   "execution_count": 36,
   "id": "32e51f66-6bec-4306-922f-c7bdd537097d",
   "metadata": {},
   "outputs": [],
   "source": [
    "import numpy as np"
   ]
  },
  {
   "cell_type": "markdown",
   "id": "d7d4a429-86fe-416a-9357-94d51830bc41",
   "metadata": {},
   "source": [
    "# Development"
   ]
  },
  {
   "cell_type": "code",
   "execution_count": 33,
   "id": "3909e0a2-2b88-4dc2-9ca3-df4398409ad1",
   "metadata": {},
   "outputs": [
    {
     "data": {
      "text/plain": [
       "6"
      ]
     },
     "execution_count": 33,
     "metadata": {},
     "output_type": "execute_result"
    }
   ],
   "source": [
    "def fact_i(n):\n",
    "    '''\n",
    "    Fucntion to obtain factorial of n by iteration.\n",
    "    '''\n",
    "    result = 1\n",
    "    for i in range(1,n+1):\n",
    "        result = result * i\n",
    "    return result\n",
    "        \n",
    "fact_i(3)"
   ]
  },
  {
   "cell_type": "code",
   "execution_count": 35,
   "id": "d089fb8c-9336-4560-84ba-a4d5d40e3303",
   "metadata": {},
   "outputs": [
    {
     "data": {
      "text/plain": [
       "720"
      ]
     },
     "execution_count": 35,
     "metadata": {},
     "output_type": "execute_result"
    }
   ],
   "source": [
    "def fact_r(n):\n",
    "    '''\n",
    "    Function to obtain factorial of n by recurssion.\n",
    "    '''\n",
    "    if n == 0 or n == 1:\n",
    "        return 1\n",
    "    else:\n",
    "        return n * fact_r(n-1)\n",
    "        \n",
    "fact_r(6)"
   ]
  },
  {
   "cell_type": "code",
   "execution_count": 40,
   "id": "c531b393-b696-4123-91ee-08e214b93cd0",
   "metadata": {},
   "outputs": [
    {
     "data": {
      "text/plain": [
       "(22026.46579480671, 22026.465794806718)"
      ]
     },
     "execution_count": 40,
     "metadata": {},
     "output_type": "execute_result"
    }
   ],
   "source": [
    "def exp_i(x, n):\n",
    "    '''\n",
    "    Function to estimate exp(x) via Taylor Series aprroximation considering n terms.\n",
    "    '''\n",
    "    exp = 1 \n",
    "    for i in range(1,n+1):\n",
    "        exp += x ** i / fact_i(i)\n",
    "    return exp\n",
    "exp_i(10,100), np.exp(10)"
   ]
  },
  {
   "cell_type": "code",
   "execution_count": 43,
   "id": "4e24e017-ff8f-4e65-a0c0-cfaeed0f20b8",
   "metadata": {},
   "outputs": [
    {
     "data": {
      "text/plain": [
       "(22026.46579480671, 22026.465794806718)"
      ]
     },
     "execution_count": 43,
     "metadata": {},
     "output_type": "execute_result"
    }
   ],
   "source": [
    "def exp_r(x,n):\n",
    "    '''\n",
    "        Function to estimate exp(x) via Taylor Series aprroximation considering n terms.\n",
    "    '''\n",
    "    exp = 1\n",
    "    for i in range(1,n+1):\n",
    "        exp += x ** i / fact_r(i)\n",
    "    return exp\n",
    "exp_r(10,100), np.exp(10)"
   ]
  },
  {
   "cell_type": "code",
   "execution_count": 46,
   "id": "5c8dc855-7666-48f2-a05c-d7b670a70c12",
   "metadata": {},
   "outputs": [
    {
     "data": {
      "text/plain": [
       "(403.4287934927351, 403.4287934927351)"
      ]
     },
     "execution_count": 46,
     "metadata": {},
     "output_type": "execute_result"
    }
   ],
   "source": [
    "def exp_o(x,n):\n",
    "    '''\n",
    "            Function to estimate exp(x) via Taylor Series aprroximation considering n terms.\n",
    "    '''\n",
    "    exp = 1\n",
    "    factorial = 1\n",
    "    for i in range(1, n+1):\n",
    "        factorial *=i\n",
    "        exp += x ** i / (factorial)\n",
    "    return exp\n",
    "\n",
    "exp_o(6,100), np.exp(6)"
   ]
  },
  {
   "cell_type": "markdown",
   "id": "5c8106f9-49f4-45fe-a93e-ed822934d0c8",
   "metadata": {},
   "source": [
    "# Profiling"
   ]
  },
  {
   "cell_type": "code",
   "execution_count": 44,
   "id": "e1c7feb3-5708-491b-8bf8-766923d97771",
   "metadata": {},
   "outputs": [
    {
     "ename": "ImportError",
     "evalue": "cannot import name 'benchmark' from 'factorial' (/home/juan/Desktop/HPC/factorial.py)",
     "output_type": "error",
     "traceback": [
      "\u001b[0;31m---------------------------------------------------------------------------\u001b[0m",
      "\u001b[0;31mImportError\u001b[0m                               Traceback (most recent call last)",
      "Cell \u001b[0;32mIn[44], line 2\u001b[0m\n\u001b[1;32m      1\u001b[0m \u001b[38;5;28;01mfrom\u001b[39;00m \u001b[38;5;21;01mparticle_simulator\u001b[39;00m \u001b[38;5;28;01mimport\u001b[39;00m benchmark\n\u001b[0;32m----> 2\u001b[0m \u001b[38;5;28;01mfrom\u001b[39;00m \u001b[38;5;21;01mfactorial\u001b[39;00m \u001b[38;5;28;01mimport\u001b[39;00m  benchmark\n",
      "\u001b[0;31mImportError\u001b[0m: cannot import name 'benchmark' from 'factorial' (/home/juan/Desktop/HPC/factorial.py)"
     ]
    }
   ],
   "source": [
    "from factorial import benchmark\n",
    "import cProfile"
   ]
  },
  {
   "cell_type": "code",
   "execution_count": null,
   "id": "e3468e75-8f22-43bd-9adb-e415ad42f19f",
   "metadata": {},
   "outputs": [],
   "source": [
    "cProfile.run(\"benchmark()\")"
   ]
  }
 ],
 "metadata": {
  "kernelspec": {
   "display_name": "Python 3 (ipykernel)",
   "language": "python",
   "name": "python3"
  },
  "language_info": {
   "codemirror_mode": {
    "name": "ipython",
    "version": 3
   },
   "file_extension": ".py",
   "mimetype": "text/x-python",
   "name": "python",
   "nbconvert_exporter": "python",
   "pygments_lexer": "ipython3",
   "version": "3.10.12"
  }
 },
 "nbformat": 4,
 "nbformat_minor": 5
}
