{
 "cells": [
  {
   "cell_type": "markdown",
   "metadata": {},
   "source": [
    "# High Performance Python\n",
    "\n",
    "### Activity 3\n",
    "\n"
   ]
  },
  {
   "cell_type": "markdown",
   "metadata": {},
   "source": [
    "### Part 1 Benchmarking and Profiling"
   ]
  },
  {
   "cell_type": "markdown",
   "metadata": {},
   "source": [
    "1. Read the sections“Introducing the Julia Set”and “Calculating the Full Julia Set”on Chapter  2.  Profiling  to  Find  Bottlenecksfrom  the book: M.  Gorelick  &  I.  Ozsvald (2020). High Performance Python. Practical Performant Programming for Humans.Second  Edition.  United  States  of  America:  O’Reilly  Media,  Inc. Implement  the chapter functions(Example2-1, 2-2, 2-3 and 2-4)on Python in order to calculate the Julia Set. Make the representation for the false gray and pure gray scale. "
   ]
  },
  {
   "cell_type": "code",
   "execution_count": 1,
   "metadata": {},
   "outputs": [],
   "source": [
    "# Libraries\n",
    "\n",
    "import time\n",
    "from PIL import Image # Pillow\n",
    "import array\n"
   ]
  },
  {
   "cell_type": "code",
   "execution_count": 2,
   "metadata": {},
   "outputs": [
    {
     "name": "stdout",
     "output_type": "stream",
     "text": [
      "Length of x: 1000\n",
      "Total elements: 1000000\n",
      "calculate_z_serial_purepython took 5.008078098297119 seconds\n"
     ]
    }
   ],
   "source": [
    "x1, x2, y1, y2 = -1.8, 1.8, -1.8, 1.8\n",
    "c_real, c_imag = -0.62772, -.42193\n",
    "\n",
    "\n",
    "def calculate_z_serial_purepython(maxiter, zs, cs):\n",
    "    \"\"\"Calculate output list using Julia update rule\"\"\"\n",
    "    output = [0] * len(zs)\n",
    "    for i in range(len(zs)):\n",
    "        n = 0\n",
    "        z = zs[i]\n",
    "        c = cs[i]\n",
    "        while abs(z) < 2 and n < maxiter:\n",
    "            z = z * z + c\n",
    "            n += 1\n",
    "        output[i] = n\n",
    "    return output\n",
    "\n",
    "\n",
    "def calc_pure_python(draw_output, desired_width, max_iterations):\n",
    "    \"\"\"Create a list of complex co-ordinates (zs) and complex parameters (cs), build Julia set and display\"\"\"\n",
    "    x_step = (float(x2 - x1) / float(desired_width))\n",
    "    y_step = (float(y1 - y2) / float(desired_width))\n",
    "    x = []\n",
    "    y = []\n",
    "    ycoord = y2\n",
    "    while ycoord > y1:\n",
    "        y.append(ycoord)\n",
    "        ycoord += y_step\n",
    "    xcoord = x1\n",
    "    while xcoord < x2:\n",
    "        x.append(xcoord)\n",
    "        xcoord += x_step\n",
    "\n",
    "    zs = []\n",
    "    cs = []\n",
    "    for ycoord in y:\n",
    "        for xcoord in x:\n",
    "            zs.append(complex(xcoord, ycoord))\n",
    "            cs.append(complex(c_real, c_imag))\n",
    "\n",
    "    print(\"Length of x:\", len(x))\n",
    "    print(\"Total elements:\", len(zs))\n",
    "    start_time = time.time()\n",
    "    output = calculate_z_serial_purepython(max_iterations, zs, cs)\n",
    "    end_time = time.time()\n",
    "    secs = end_time - start_time\n",
    "    print(calculate_z_serial_purepython.__name__ + \" took\", secs, \"seconds\")\n",
    "\n",
    "\n",
    "\n",
    "if __name__ == \"__main__\":\n",
    "    \n",
    "    calc_pure_python(draw_output=False, desired_width=1000, max_iterations=300)"
   ]
  },
  {
   "cell_type": "code",
   "execution_count": 3,
   "metadata": {},
   "outputs": [
    {
     "name": "stdout",
     "output_type": "stream",
     "text": [
      "Length of x: 1000\n",
      "Total elements: 1000000\n",
      "calculate_z_serial_purepython took 4.836010217666626 seconds\n",
      "300.0\n"
     ]
    }
   ],
   "source": [
    "x1, x2, y1, y2 = -1.8, 1.8, -1.8, 1.8\n",
    "c_real, c_imag = -0.62772, -.42193\n",
    "\n",
    "\n",
    "def show_greyscale(output_raw, width, height, max_iterations):\n",
    "    \"\"\"Convert list to array, show using PIL\"\"\"\n",
    "   \n",
    "    max_iterations = float(max(output_raw))\n",
    "    print(max_iterations)\n",
    "    scale_factor = float(max_iterations)\n",
    "    scaled = [int(o / scale_factor * 255) for o in output_raw]\n",
    "    output = array.array('B', scaled)  # array of unsigned ints\n",
    "    im = Image.new(\"L\", (width, width))\n",
    "    im.frombytes(output.tobytes(), \"raw\", \"L\", 0, -1)\n",
    "    im.show(title=\"Greyscale Julia Set\")\n",
    "\n",
    "    \n",
    "\n",
    "\n",
    "def show_false_greyscale(output_raw, width, height, max_iterations):\n",
    "    \"\"\"Convert list to array, show using PIL\"\"\"  \n",
    "    assert width * height == len(output_raw)\n",
    "    max_value = float(max(output_raw))\n",
    "    output_raw_limited = [int(float(o) / max_value * 255) for o in output_raw]\n",
    "    output_rgb = (\n",
    "        (o + (256 * o) + (256 ** 2) * o) * 16 for o in output_raw_limited)  # fancier\n",
    "    output_rgb = array.array('I', output_rgb)\n",
    "    im = Image.new(\"RGB\", (width, height))\n",
    "    im.frombytes(output_rgb.tobytes(), \"raw\", \"RGBX\", 0, -1)\n",
    "    im.show(title=\"False Greyscale Julia Set\")\n",
    "    \n",
    "\n",
    "\n",
    "def calculate_z_serial_purepython(maxiter, zs, cs):\n",
    "    \"\"\"Calculate output list using Julia update rule\"\"\"\n",
    "    output = [0] * len(zs)\n",
    "    for i in range(len(zs)):\n",
    "        n = 0\n",
    "        z = zs[i]\n",
    "        c = cs[i]\n",
    "        while abs(z) < 2 and n < maxiter:\n",
    "            z = z * z + c\n",
    "            n += 1\n",
    "        output[i] = n\n",
    "    return output\n",
    "\n",
    "\n",
    "def calc_pure_python(draw_output, desired_width, max_iterations):\n",
    "    \"\"\"Create a list of complex co-ordinates (zs) and complex parameters (cs), build Julia set and display\"\"\"\n",
    "    x_step = (float(x2 - x1) / float(desired_width))\n",
    "    y_step = (float(y1 - y2) / float(desired_width))\n",
    "    x = []\n",
    "    y = []\n",
    "    ycoord = y2\n",
    "    while ycoord > y1:\n",
    "        y.append(ycoord)\n",
    "        ycoord += y_step\n",
    "    xcoord = x1\n",
    "    while xcoord < x2:\n",
    "        x.append(xcoord)\n",
    "        xcoord += x_step\n",
    "    width = len(x)\n",
    "    height = len(y)\n",
    "\n",
    "    zs = []\n",
    "    cs = []\n",
    "    for ycoord in y:\n",
    "        for xcoord in x:\n",
    "            zs.append(complex(xcoord, ycoord))\n",
    "            cs.append(complex(c_real, c_imag))\n",
    "\n",
    "    print(\"Length of x:\", len(x))\n",
    "    print(\"Total elements:\", len(zs))\n",
    "    start_time = time.time()\n",
    "    output = calculate_z_serial_purepython(max_iterations, zs, cs)\n",
    "    end_time = time.time()\n",
    "    secs = end_time - start_time\n",
    "    print(calculate_z_serial_purepython.__name__ + \" took\", secs, \"seconds\")\n",
    "\n",
    "\n",
    "\n",
    "    if draw_output:\n",
    "        show_false_greyscale(output, width, height, max_iterations)\n",
    "        show_greyscale(output, width, height, max_iterations)\n",
    "        \n",
    "\n",
    "\n",
    "\n",
    "if __name__ == \"__main__\":\n",
    "    \n",
    "    calc_pure_python(draw_output=True, desired_width=1000, max_iterations=300)"
   ]
  },
  {
   "cell_type": "markdown",
   "metadata": {},
   "source": [
    "2. Define a new function, timefn, which takes a function as an argument: the inner function, measure_time, takes *args (a variable number of positional arguments) and **kwargs (a variable number of key/value arguments) and passes them through to fn for execution. Decorate calculate_z_serial_purepython with @timefn to profile it. Implement Example 2-5 and adapt your current source code."
   ]
  },
  {
   "cell_type": "code",
   "execution_count": 4,
   "metadata": {},
   "outputs": [],
   "source": [
    "# Libraries\n",
    "import time\n",
    "from functools import wraps"
   ]
  },
  {
   "cell_type": "code",
   "execution_count": 5,
   "metadata": {},
   "outputs": [],
   "source": [
    "def timefn(function):\n",
    "    @wraps(function)\n",
    "    def measure_time(*args, **kwargs):\n",
    "        t1 = time.time()\n",
    "        result = function(*args, **kwargs)\n",
    "        t2 = time.time()\n",
    "        total_time = t2 - t1\n",
    "        print(f\"{function.__name__} took {total_time} seconds\")\n",
    "        return result\n",
    "    return measure_time\n",
    "    \n",
    "@timefn\n",
    "def calculate_z_serial_purepython(maxiter, zs, cs):\n",
    "    \"\"\"Calculate output list using Julia update rule\"\"\"\n",
    "    output = [0] * len(zs)\n",
    "    for i in range(len(zs)):\n",
    "        n = 0\n",
    "        z = zs[i]\n",
    "        c = cs[i]\n",
    "        while abs(z) < 2 and n < maxiter:\n",
    "            z = z * z + c\n",
    "            n += 1\n",
    "        output[i] = n\n",
    "    return output\n"
   ]
  },
  {
   "cell_type": "code",
   "execution_count": 6,
   "metadata": {},
   "outputs": [
    {
     "name": "stdout",
     "output_type": "stream",
     "text": [
      "Length of x: 1000\n",
      "Total elements: 1000000\n",
      "calculate_z_serial_purepython took 5.007472991943359 seconds\n",
      "calculate_z_serial_purepython took 5.007472991943359 seconds\n"
     ]
    }
   ],
   "source": [
    "if __name__ == \"__main__\":\n",
    "    calc_pure_python(draw_output=False, desired_width=1000, max_iterations=300)"
   ]
  },
  {
   "cell_type": "markdown",
   "metadata": {},
   "source": [
    "3. Use the timeit modeule to get a coarse measurement of the execution speed of the CPU-bound  function. Runs  10  loops  with  5  repetitions.  Show  how  to do  the measurement on the command lineand on a Jupyter Notebook."
   ]
  },
  {
   "cell_type": "code",
   "execution_count": 7,
   "metadata": {},
   "outputs": [
    {
     "name": "stdout",
     "output_type": "stream",
     "text": [
      "Length of x: 1000\n",
      "Total elements: 1000000\n",
      "calculate_z_serial_purepython took 4.978557586669922 seconds\n",
      "calculate_z_serial_purepython took 4.978557586669922 seconds\n",
      "Length of x: 1000\n",
      "Total elements: 1000000\n",
      "calculate_z_serial_purepython took 5.046737194061279 seconds\n",
      "calculate_z_serial_purepython took 5.046737194061279 seconds\n",
      "Length of x: 1000\n",
      "Total elements: 1000000\n",
      "calculate_z_serial_purepython took 5.035212993621826 seconds\n",
      "calculate_z_serial_purepython took 5.035212993621826 seconds\n",
      "Length of x: 1000\n",
      "Total elements: 1000000\n"
     ]
    },
    {
     "ename": "KeyboardInterrupt",
     "evalue": "",
     "output_type": "error",
     "traceback": [
      "\u001b[1;31m---------------------------------------------------------------------------\u001b[0m",
      "\u001b[1;31mKeyboardInterrupt\u001b[0m                         Traceback (most recent call last)",
      "Cell \u001b[1;32mIn[7], line 1\u001b[0m\n\u001b[1;32m----> 1\u001b[0m get_ipython()\u001b[38;5;241m.\u001b[39mrun_line_magic(\u001b[38;5;124m'\u001b[39m\u001b[38;5;124mtimeit\u001b[39m\u001b[38;5;124m'\u001b[39m, \u001b[38;5;124m'\u001b[39m\u001b[38;5;124m-r 5 -n 10 calc_pure_python(draw_output=False,desired_width=1000, max_iterations=300)\u001b[39m\u001b[38;5;124m'\u001b[39m)\n",
      "File \u001b[1;32mc:\\Users\\juanj\\anaconda3\\envs\\HPC\\Lib\\site-packages\\IPython\\core\\interactiveshell.py:2456\u001b[0m, in \u001b[0;36mInteractiveShell.run_line_magic\u001b[1;34m(self, magic_name, line, _stack_depth)\u001b[0m\n\u001b[0;32m   2454\u001b[0m     kwargs[\u001b[38;5;124m'\u001b[39m\u001b[38;5;124mlocal_ns\u001b[39m\u001b[38;5;124m'\u001b[39m] \u001b[38;5;241m=\u001b[39m \u001b[38;5;28mself\u001b[39m\u001b[38;5;241m.\u001b[39mget_local_scope(stack_depth)\n\u001b[0;32m   2455\u001b[0m \u001b[38;5;28;01mwith\u001b[39;00m \u001b[38;5;28mself\u001b[39m\u001b[38;5;241m.\u001b[39mbuiltin_trap:\n\u001b[1;32m-> 2456\u001b[0m     result \u001b[38;5;241m=\u001b[39m fn(\u001b[38;5;241m*\u001b[39margs, \u001b[38;5;241m*\u001b[39m\u001b[38;5;241m*\u001b[39mkwargs)\n\u001b[0;32m   2458\u001b[0m \u001b[38;5;66;03m# The code below prevents the output from being displayed\u001b[39;00m\n\u001b[0;32m   2459\u001b[0m \u001b[38;5;66;03m# when using magics with decorator @output_can_be_silenced\u001b[39;00m\n\u001b[0;32m   2460\u001b[0m \u001b[38;5;66;03m# when the last Python token in the expression is a ';'.\u001b[39;00m\n\u001b[0;32m   2461\u001b[0m \u001b[38;5;28;01mif\u001b[39;00m \u001b[38;5;28mgetattr\u001b[39m(fn, magic\u001b[38;5;241m.\u001b[39mMAGIC_OUTPUT_CAN_BE_SILENCED, \u001b[38;5;28;01mFalse\u001b[39;00m):\n",
      "File \u001b[1;32mc:\\Users\\juanj\\anaconda3\\envs\\HPC\\Lib\\site-packages\\IPython\\core\\magics\\execution.py:1189\u001b[0m, in \u001b[0;36mExecutionMagics.timeit\u001b[1;34m(self, line, cell, local_ns)\u001b[0m\n\u001b[0;32m   1186\u001b[0m         \u001b[38;5;28;01mif\u001b[39;00m time_number \u001b[38;5;241m>\u001b[39m\u001b[38;5;241m=\u001b[39m \u001b[38;5;241m0.2\u001b[39m:\n\u001b[0;32m   1187\u001b[0m             \u001b[38;5;28;01mbreak\u001b[39;00m\n\u001b[1;32m-> 1189\u001b[0m all_runs \u001b[38;5;241m=\u001b[39m timer\u001b[38;5;241m.\u001b[39mrepeat(repeat, number)\n\u001b[0;32m   1190\u001b[0m best \u001b[38;5;241m=\u001b[39m \u001b[38;5;28mmin\u001b[39m(all_runs) \u001b[38;5;241m/\u001b[39m number\n\u001b[0;32m   1191\u001b[0m worst \u001b[38;5;241m=\u001b[39m \u001b[38;5;28mmax\u001b[39m(all_runs) \u001b[38;5;241m/\u001b[39m number\n",
      "File \u001b[1;32mc:\\Users\\juanj\\anaconda3\\envs\\HPC\\Lib\\timeit.py:208\u001b[0m, in \u001b[0;36mTimer.repeat\u001b[1;34m(self, repeat, number)\u001b[0m\n\u001b[0;32m    206\u001b[0m r \u001b[38;5;241m=\u001b[39m []\n\u001b[0;32m    207\u001b[0m \u001b[38;5;28;01mfor\u001b[39;00m i \u001b[38;5;129;01min\u001b[39;00m \u001b[38;5;28mrange\u001b[39m(repeat):\n\u001b[1;32m--> 208\u001b[0m     t \u001b[38;5;241m=\u001b[39m \u001b[38;5;28mself\u001b[39m\u001b[38;5;241m.\u001b[39mtimeit(number)\n\u001b[0;32m    209\u001b[0m     r\u001b[38;5;241m.\u001b[39mappend(t)\n\u001b[0;32m    210\u001b[0m \u001b[38;5;28;01mreturn\u001b[39;00m r\n",
      "File \u001b[1;32mc:\\Users\\juanj\\anaconda3\\envs\\HPC\\Lib\\site-packages\\IPython\\core\\magics\\execution.py:173\u001b[0m, in \u001b[0;36mTimer.timeit\u001b[1;34m(self, number)\u001b[0m\n\u001b[0;32m    171\u001b[0m gc\u001b[38;5;241m.\u001b[39mdisable()\n\u001b[0;32m    172\u001b[0m \u001b[38;5;28;01mtry\u001b[39;00m:\n\u001b[1;32m--> 173\u001b[0m     timing \u001b[38;5;241m=\u001b[39m \u001b[38;5;28mself\u001b[39m\u001b[38;5;241m.\u001b[39minner(it, \u001b[38;5;28mself\u001b[39m\u001b[38;5;241m.\u001b[39mtimer)\n\u001b[0;32m    174\u001b[0m \u001b[38;5;28;01mfinally\u001b[39;00m:\n\u001b[0;32m    175\u001b[0m     \u001b[38;5;28;01mif\u001b[39;00m gcold:\n",
      "File \u001b[1;32m<magic-timeit>:1\u001b[0m, in \u001b[0;36minner\u001b[1;34m(_it, _timer)\u001b[0m\n",
      "Cell \u001b[1;32mIn[3], line 75\u001b[0m, in \u001b[0;36mcalc_pure_python\u001b[1;34m(draw_output, desired_width, max_iterations)\u001b[0m\n\u001b[0;32m     73\u001b[0m \u001b[38;5;28mprint\u001b[39m(\u001b[38;5;124m\"\u001b[39m\u001b[38;5;124mTotal elements:\u001b[39m\u001b[38;5;124m\"\u001b[39m, \u001b[38;5;28mlen\u001b[39m(zs))\n\u001b[0;32m     74\u001b[0m start_time \u001b[38;5;241m=\u001b[39m time\u001b[38;5;241m.\u001b[39mtime()\n\u001b[1;32m---> 75\u001b[0m output \u001b[38;5;241m=\u001b[39m calculate_z_serial_purepython(max_iterations, zs, cs)\n\u001b[0;32m     76\u001b[0m end_time \u001b[38;5;241m=\u001b[39m time\u001b[38;5;241m.\u001b[39mtime()\n\u001b[0;32m     77\u001b[0m secs \u001b[38;5;241m=\u001b[39m end_time \u001b[38;5;241m-\u001b[39m start_time\n",
      "Cell \u001b[1;32mIn[5], line 5\u001b[0m, in \u001b[0;36mtimefn.<locals>.measure_time\u001b[1;34m(*args, **kwargs)\u001b[0m\n\u001b[0;32m      2\u001b[0m \u001b[38;5;129m@wraps\u001b[39m(function)\n\u001b[0;32m      3\u001b[0m \u001b[38;5;28;01mdef\u001b[39;00m \u001b[38;5;21mmeasure_time\u001b[39m(\u001b[38;5;241m*\u001b[39margs, \u001b[38;5;241m*\u001b[39m\u001b[38;5;241m*\u001b[39mkwargs):\n\u001b[0;32m      4\u001b[0m     t1 \u001b[38;5;241m=\u001b[39m time\u001b[38;5;241m.\u001b[39mtime()\n\u001b[1;32m----> 5\u001b[0m     result \u001b[38;5;241m=\u001b[39m function(\u001b[38;5;241m*\u001b[39margs, \u001b[38;5;241m*\u001b[39m\u001b[38;5;241m*\u001b[39mkwargs)\n\u001b[0;32m      6\u001b[0m     t2 \u001b[38;5;241m=\u001b[39m time\u001b[38;5;241m.\u001b[39mtime()\n\u001b[0;32m      7\u001b[0m     total_time \u001b[38;5;241m=\u001b[39m t2 \u001b[38;5;241m-\u001b[39m t1\n",
      "Cell \u001b[1;32mIn[5], line 20\u001b[0m, in \u001b[0;36mcalculate_z_serial_purepython\u001b[1;34m(maxiter, zs, cs)\u001b[0m\n\u001b[0;32m     18\u001b[0m z \u001b[38;5;241m=\u001b[39m zs[i]\n\u001b[0;32m     19\u001b[0m c \u001b[38;5;241m=\u001b[39m cs[i]\n\u001b[1;32m---> 20\u001b[0m \u001b[38;5;28;01mwhile\u001b[39;00m \u001b[38;5;28mabs\u001b[39m(z) \u001b[38;5;241m<\u001b[39m \u001b[38;5;241m2\u001b[39m \u001b[38;5;129;01mand\u001b[39;00m n \u001b[38;5;241m<\u001b[39m maxiter:\n\u001b[0;32m     21\u001b[0m     z \u001b[38;5;241m=\u001b[39m z \u001b[38;5;241m*\u001b[39m z \u001b[38;5;241m+\u001b[39m c\n\u001b[0;32m     22\u001b[0m     n \u001b[38;5;241m+\u001b[39m\u001b[38;5;241m=\u001b[39m \u001b[38;5;241m1\u001b[39m\n",
      "\u001b[1;31mKeyboardInterrupt\u001b[0m: "
     ]
    }
   ],
   "source": [
    "%timeit -r 5 -n 10 calc_pure_python(draw_output=False,desired_width=1000, max_iterations=300)"
   ]
  },
  {
   "cell_type": "markdown",
   "metadata": {},
   "source": [
    "4. Use the cProfile module to profilethe source code (.py). Sort the results by the time spent inside each function. This will give a view into the slowest parts. Analyze the output and make a syntesis of the findings. Show how to use the cProfile module on the command line and on a Jupyter Notebook."
   ]
  },
  {
   "cell_type": "code",
   "execution_count": 10,
   "metadata": {},
   "outputs": [],
   "source": [
    "import cProfile\n",
    "import pstats"
   ]
  },
  {
   "cell_type": "code",
   "execution_count": 11,
   "metadata": {},
   "outputs": [
    {
     "name": "stdout",
     "output_type": "stream",
     "text": [
      "Length of x: 1000\n",
      "Total elements: 1000000\n",
      "calculate_z_serial_purepython took 11.127159357070923 seconds\n",
      "calculate_z_serial_purepython took 11.127159357070923 seconds\n"
     ]
    }
   ],
   "source": [
    "profiler = cProfile.Profile()\n",
    "profiler.enable()\n",
    "calc_pure_python(draw_output=False, desired_width=1000, max_iterations=300)\n",
    "profiler.disable()"
   ]
  },
  {
   "cell_type": "code",
   "execution_count": 12,
   "metadata": {},
   "outputs": [
    {
     "name": "stdout",
     "output_type": "stream",
     "text": [
      "         36222181 function calls in 11.834 seconds\n",
      "\n",
      "   Ordered by: cumulative time\n",
      "\n",
      "   ncalls  tottime  percall  cumtime  percall filename:lineno(function)\n",
      "        2    0.000    0.000   11.875    5.938 c:\\Users\\juanj\\anaconda3\\envs\\HPC\\Lib\\site-packages\\IPython\\core\\interactiveshell.py:3517(run_code)\n",
      "        2    0.000    0.000   11.875    5.937 {built-in method builtins.exec}\n",
      "        1    0.553    0.553   11.834   11.834 C:\\Users\\juanj\\AppData\\Local\\Temp\\ipykernel_19840\\1047894795.py:48(calc_pure_python)\n",
      "        1    0.000    0.000   11.127   11.127 C:\\Users\\juanj\\AppData\\Local\\Temp\\ipykernel_19840\\957609554.py:2(measure_time)\n",
      "        1    8.402    8.402   11.127   11.127 C:\\Users\\juanj\\AppData\\Local\\Temp\\ipykernel_19840\\957609554.py:12(calculate_z_serial_purepython)\n",
      " 34219980    2.725    0.000    2.725    0.000 {built-in method builtins.abs}\n",
      "  2002000    0.154    0.000    0.154    0.000 {method 'append' of 'list' objects}\n",
      "        4    0.000    0.000    0.000    0.000 {built-in method builtins.print}\n",
      "       16    0.000    0.000    0.000    0.000 c:\\Users\\juanj\\anaconda3\\envs\\HPC\\Lib\\site-packages\\ipykernel\\iostream.py:624(write)\n",
      "       16    0.000    0.000    0.000    0.000 c:\\Users\\juanj\\anaconda3\\envs\\HPC\\Lib\\site-packages\\ipykernel\\iostream.py:546(_schedule_flush)\n",
      "        2    0.000    0.000    0.000    0.000 c:\\Users\\juanj\\anaconda3\\envs\\HPC\\Lib\\site-packages\\ipykernel\\iostream.py:258(schedule)\n",
      "        2    0.000    0.000    0.000    0.000 c:\\Users\\juanj\\anaconda3\\envs\\HPC\\Lib\\site-packages\\zmq\\sugar\\socket.py:621(send)\n",
      "        2    0.000    0.000    0.000    0.000 c:\\Users\\juanj\\anaconda3\\envs\\HPC\\Lib\\codeop.py:120(__call__)\n",
      "        2    0.000    0.000    0.000    0.000 {built-in method builtins.compile}\n",
      "        2    0.000    0.000    0.000    0.000 c:\\Users\\juanj\\anaconda3\\envs\\HPC\\Lib\\threading.py:1192(is_alive)\n",
      "        2    0.000    0.000    0.000    0.000 c:\\Users\\juanj\\anaconda3\\envs\\HPC\\Lib\\contextlib.py:299(helper)\n",
      "       16    0.000    0.000    0.000    0.000 c:\\Users\\juanj\\anaconda3\\envs\\HPC\\Lib\\site-packages\\ipykernel\\iostream.py:519(_is_master_process)\n",
      "        2    0.000    0.000    0.000    0.000 c:\\Users\\juanj\\anaconda3\\envs\\HPC\\Lib\\contextlib.py:132(__enter__)\n",
      "        2    0.000    0.000    0.000    0.000 c:\\Users\\juanj\\anaconda3\\envs\\HPC\\Lib\\contextlib.py:104(__init__)\n",
      "        4    0.000    0.000    0.000    0.000 {built-in method builtins.next}\n",
      "        2    0.000    0.000    0.000    0.000 c:\\Users\\juanj\\anaconda3\\envs\\HPC\\Lib\\site-packages\\traitlets\\traitlets.py:689(__get__)\n",
      "        2    0.000    0.000    0.000    0.000 c:\\Users\\juanj\\anaconda3\\envs\\HPC\\Lib\\threading.py:1125(_wait_for_tstate_lock)\n",
      "        2    0.000    0.000    0.000    0.000 c:\\Users\\juanj\\anaconda3\\envs\\HPC\\Lib\\contextlib.py:141(__exit__)\n",
      "        1    0.000    0.000    0.000    0.000 C:\\Users\\juanj\\AppData\\Local\\Temp\\ipykernel_19840\\4104489518.py:1(<module>)\n",
      "        4    0.000    0.000    0.000    0.000 c:\\Users\\juanj\\anaconda3\\envs\\HPC\\Lib\\site-packages\\IPython\\core\\compilerop.py:180(extra_flags)\n",
      "        2    0.000    0.000    0.000    0.000 c:\\Users\\juanj\\anaconda3\\envs\\HPC\\Lib\\site-packages\\ipykernel\\iostream.py:137(_event_pipe)\n",
      "       22    0.000    0.000    0.000    0.000 {built-in method builtins.len}\n",
      "       16    0.000    0.000    0.000    0.000 {method 'write' of '_io.StringIO' objects}\n",
      "       16    0.000    0.000    0.000    0.000 {built-in method nt.getpid}\n",
      "        4    0.000    0.000    0.000    0.000 {built-in method builtins.getattr}\n",
      "        2    0.000    0.000    0.000    0.000 {method 'acquire' of '_thread.lock' objects}\n",
      "        2    0.000    0.000    0.000    0.000 c:\\Users\\juanj\\anaconda3\\envs\\HPC\\Lib\\site-packages\\traitlets\\traitlets.py:651(get)\n",
      "        2    0.000    0.000    0.000    0.000 c:\\Users\\juanj\\anaconda3\\envs\\HPC\\Lib\\site-packages\\IPython\\core\\interactiveshell.py:3469(compare)\n",
      "       16    0.000    0.000    0.000    0.000 {method '__exit__' of '_thread.RLock' objects}\n",
      "        4    0.000    0.000    0.000    0.000 {built-in method time.time}\n",
      "       16    0.000    0.000    0.000    0.000 {built-in method builtins.isinstance}\n",
      "        2    0.000    0.000    0.000    0.000 c:\\Users\\juanj\\anaconda3\\envs\\HPC\\Lib\\site-packages\\IPython\\core\\interactiveshell.py:1255(user_global_ns)\n",
      "        2    0.000    0.000    0.000    0.000 c:\\Users\\juanj\\anaconda3\\envs\\HPC\\Lib\\threading.py:575(is_set)\n",
      "        2    0.000    0.000    0.000    0.000 {method 'append' of 'collections.deque' objects}\n",
      "        1    0.000    0.000    0.000    0.000 {method 'disable' of '_lsprof.Profiler' objects}\n",
      "        2    0.000    0.000    0.000    0.000 {method 'get' of 'dict' objects}\n",
      "\n",
      "\n"
     ]
    },
    {
     "data": {
      "text/plain": [
       "<pstats.Stats at 0x1b46ddef210>"
      ]
     },
     "execution_count": 12,
     "metadata": {},
     "output_type": "execute_result"
    }
   ],
   "source": [
    "stats = pstats.Stats(profiler).sort_stats('cumulative')\n",
    "stats.print_stats()"
   ]
  },
  {
   "cell_type": "markdown",
   "metadata": {},
   "source": [
    "5. Use snakeviz to get a high-level understanding of thecPrifile statistics file.Analyze the output and make a syntesis of the findings."
   ]
  },
  {
   "cell_type": "code",
   "execution_count": 18,
   "metadata": {},
   "outputs": [
    {
     "name": "stdout",
     "output_type": "stream",
     "text": [
      "Length of x: 1000\n",
      "Total elements: 1000000\n",
      "calculate_z_serial_purepython took 11.314344882965088 seconds\n",
      "calculate_z_serial_purepython took 11.314344882965088 seconds\n"
     ]
    },
    {
     "name": "stderr",
     "output_type": "stream",
     "text": [
      "'snakeviz' is not recognized as an internal or external command,\n",
      "operable program or batch file.\n"
     ]
    }
   ],
   "source": [
    "%reload_ext snakeviz\n",
    "\n",
    "if __name__ == \"__main__\":\n",
    "    cProfile.run('calc_pure_python(draw_output=False, desired_width=1000, max_iterations=300)', 'stats')\n",
    "!snakeviz \"stats\""
   ]
  },
  {
   "cell_type": "markdown",
   "metadata": {},
   "source": [
    "6. Use  the  line_profiler  and  kernprof  file  to  profile  line-by-line  the  function calculate_z_serial_purepython. Analyze  the  output  and  make  a  syntesis  of  the findings."
   ]
  },
  {
   "cell_type": "code",
   "execution_count": 14,
   "metadata": {},
   "outputs": [
    {
     "name": "stderr",
     "output_type": "stream",
     "text": [
      "c:\\Users\\juanj\\OneDrive\\Desktop\\UPY\\upystuff\\HPC\\CA3\\.venv\\Lib\\site-packages\\line_profiler\\ipython_extension.py:97: UserWarning: Adding a function with a __wrapped__ attribute. You may want to profile the wrapped function by adding calculate_z_serial_purepython.__wrapped__ instead.\n",
      "  profile = LineProfiler(*funcs)\n"
     ]
    },
    {
     "name": "stdout",
     "output_type": "stream",
     "text": [
      "Length of x: 1000\n",
      "Total elements: 1000000\n",
      "calculate_z_serial_purepython took 25.5150089263916 seconds\n",
      "calculate_z_serial_purepython took 25.5150089263916 seconds\n"
     ]
    },
    {
     "name": "stdout",
     "output_type": "stream",
     "text": [
      "Timer unit: 1e-07 s\n",
      "\n",
      "Total time: 25.5156 s\n",
      "File: C:\\Users\\juanj\\AppData\\Local\\Temp\\ipykernel_5440\\957609554.py\n",
      "Function: measure_time at line 2\n",
      "\n",
      "Line #      Hits         Time  Per Hit   % Time  Line Contents\n",
      "==============================================================\n",
      "     2                                               @wraps(function)\n",
      "     3                                               def measure_time(*args, **kwargs):\n",
      "     4         1          9.0      9.0      0.0          t1 = time.time()\n",
      "     5         1  255152818.0    3e+08    100.0          result = function(*args, **kwargs)\n",
      "     6         1         50.0     50.0      0.0          t2 = time.time()\n",
      "     7         1          8.0      8.0      0.0          total_time = t2 - t1\n",
      "     8         1       2938.0   2938.0      0.0          print(f\"{function.__name__} took {total_time} seconds\")\n",
      "     9         1          9.0      9.0      0.0          return result"
     ]
    }
   ],
   "source": [
    "%load_ext line_profiler\n",
    "%lprun -f calculate_z_serial_purepython calc_pure_python(draw_output=False, desired_width=1000, max_iterations=300)"
   ]
  },
  {
   "cell_type": "markdown",
   "metadata": {},
   "source": [
    "7. Use the memory_profiler to diagnose memory usage. Analyze the output and make a syntesis of the findings."
   ]
  },
  {
   "cell_type": "code",
   "execution_count": 7,
   "metadata": {},
   "outputs": [
    {
     "name": "stdout",
     "output_type": "stream",
     "text": [
      "Length of x: 1000\n",
      "Total elements: 1000000\n",
      "calculate_z_serial_purepython took 4.972938776016235 seconds\n",
      "calculate_z_serial_purepython took 4.972938776016235 seconds\n",
      "peak memory: 162.79 MiB, increment: 85.00 MiB\n"
     ]
    }
   ],
   "source": [
    "%reload_ext memory_profiler \n",
    "%memit calc_pure_python(draw_output=False, desired_width=1000, max_iterations=300)"
   ]
  },
  {
   "cell_type": "markdown",
   "metadata": {},
   "source": [
    "###"
   ]
  }
 ],
 "metadata": {
  "kernelspec": {
   "display_name": ".venv",
   "language": "python",
   "name": "python3"
  },
  "language_info": {
   "codemirror_mode": {
    "name": "ipython",
    "version": 3
   },
   "file_extension": ".py",
   "mimetype": "text/x-python",
   "name": "python",
   "nbconvert_exporter": "python",
   "pygments_lexer": "ipython3",
   "version": "3.11.7"
  }
 },
 "nbformat": 4,
 "nbformat_minor": 2
}
