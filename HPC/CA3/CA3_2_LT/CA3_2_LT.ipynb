{
 "cells": [
  {
   "cell_type": "markdown",
   "metadata": {},
   "source": [
    "# High Performance Python\n",
    "\n",
    "### Activity 3\n",
    "\n"
   ]
  },
  {
   "cell_type": "markdown",
   "metadata": {},
   "source": [
    "### Part 2 Lists and Tuples"
   ]
  },
  {
   "cell_type": "markdown",
   "metadata": {},
   "source": [
    "8. In some cases, it is necessary to efficiently perform insertion or removal of elements both at the beginning and at the end of the collection. Measure the time for the following operations with N = 10000, 20000 y 30000 elements:\n",
    "- Delete lastelement of a list via pop()\n",
    "- Delete firstelement of a list via pop(0)\n",
    "- Append 1 at the end of the list.\n",
    "- Insert 1 at the beginningof the list insert(0, 1)\n",
    "\n",
    "Make a tablewith your results. It should looks like table on Chapter 2: Pure Python Optimization (pp. 38) from the book G. Lenaro (2017). Python high Performance. Second Edition. UK: Packt Publishing Ltd."
   ]
  },
  {
   "cell_type": "code",
   "execution_count": 2,
   "metadata": {},
   "outputs": [],
   "source": [
    "import pandas as pd\n",
    "import timeit"
   ]
  },
  {
   "cell_type": "code",
   "execution_count": 8,
   "metadata": {},
   "outputs": [
    {
     "data": {
      "text/html": [
       "<div>\n",
       "<style scoped>\n",
       "    .dataframe tbody tr th:only-of-type {\n",
       "        vertical-align: middle;\n",
       "    }\n",
       "\n",
       "    .dataframe tbody tr th {\n",
       "        vertical-align: top;\n",
       "    }\n",
       "\n",
       "    .dataframe thead th {\n",
       "        text-align: right;\n",
       "    }\n",
       "</style>\n",
       "<table border=\"1\" class=\"dataframe\">\n",
       "  <thead>\n",
       "    <tr style=\"text-align: right;\">\n",
       "      <th></th>\n",
       "      <th>10000</th>\n",
       "      <th>20000</th>\n",
       "      <th>30000</th>\n",
       "    </tr>\n",
       "  </thead>\n",
       "  <tbody>\n",
       "    <tr>\n",
       "      <th>list.pop()</th>\n",
       "      <td>5.340000e-14</td>\n",
       "      <td>2.770000e-14</td>\n",
       "      <td>2.610000e-14</td>\n",
       "    </tr>\n",
       "    <tr>\n",
       "      <th>list.pop(0)</th>\n",
       "      <td>2.005850e-11</td>\n",
       "      <td>4.111530e-11</td>\n",
       "      <td>6.279310e-11</td>\n",
       "    </tr>\n",
       "    <tr>\n",
       "      <th>list.append(1)</th>\n",
       "      <td>5.440000e-14</td>\n",
       "      <td>2.740000e-14</td>\n",
       "      <td>1.355000e-13</td>\n",
       "    </tr>\n",
       "    <tr>\n",
       "      <th>list.insert(0, 1)</th>\n",
       "      <td>3.137100e-12</td>\n",
       "      <td>6.196300e-12</td>\n",
       "      <td>8.967500e-12</td>\n",
       "    </tr>\n",
       "  </tbody>\n",
       "</table>\n",
       "</div>"
      ],
      "text/plain": [
       "                          10000         20000         30000\n",
       "list.pop()         5.340000e-14  2.770000e-14  2.610000e-14\n",
       "list.pop(0)        2.005850e-11  4.111530e-11  6.279310e-11\n",
       "list.append(1)     5.440000e-14  2.740000e-14  1.355000e-13\n",
       "list.insert(0, 1)  3.137100e-12  6.196300e-12  8.967500e-12"
      ]
     },
     "execution_count": 8,
     "metadata": {},
     "output_type": "execute_result"
    }
   ],
   "source": [
    "size = [10_000, 20_000, 30_000]\n",
    "operations = {\n",
    "    \"list.pop()\" : 'lst.pop()',\n",
    "    \"list.pop(0)\" : 'lst.pop(0)',\n",
    "    \"list.append(1)\" : 'lst.append(1)',\n",
    "    \"list.insert(0, 1)\" : 'lst.insert(0, 1)',\n",
    "}\n",
    "\n",
    "results = {op: [] for op in operations}\n",
    "\n",
    "for _ in size:\n",
    "    for operation, function in operations.items():\n",
    "        lst_code = f\"lst = list(range({_}))\"\n",
    "        time = timeit.timeit(stmt=function, setup=lst_code, number=1000)\n",
    "        time /= 1000 * 1e6  \n",
    "\n",
    "        results[operation].append(time)\n",
    "\n",
    "\n",
    "df = pd.DataFrame(results, index=[n for n in size])\n",
    "\n",
    "trans = df.transpose()\n",
    "\n",
    "trans.head()"
   ]
  },
  {
   "cell_type": "markdown",
   "metadata": {},
   "source": [
    "9. Python provides a data structure with interesting properties in the collection.deque\n",
    "class. The word deque stands for double-ended queue because this data structure\n",
    "is designed to efficiently put and remove elements at the beginning and at the end\n",
    "of the collection. Evaluate the following methods with N = 10 000, 20 000 and 30\n",
    "000 elements:\n",
    "- deque.pop()\n",
    "- deque.popleft()\n",
    "- deque.append(1)\n",
    "- deque.appendleft(1)\n",
    "\n",
    "Make a table with your results. It should looks like table on pp. 39 on the same book\n",
    "as previous task."
   ]
  },
  {
   "cell_type": "code",
   "execution_count": 9,
   "metadata": {},
   "outputs": [
    {
     "data": {
      "text/html": [
       "<div>\n",
       "<style scoped>\n",
       "    .dataframe tbody tr th:only-of-type {\n",
       "        vertical-align: middle;\n",
       "    }\n",
       "\n",
       "    .dataframe tbody tr th {\n",
       "        vertical-align: top;\n",
       "    }\n",
       "\n",
       "    .dataframe thead th {\n",
       "        text-align: right;\n",
       "    }\n",
       "</style>\n",
       "<table border=\"1\" class=\"dataframe\">\n",
       "  <thead>\n",
       "    <tr style=\"text-align: right;\">\n",
       "      <th></th>\n",
       "      <th>10000</th>\n",
       "      <th>20000</th>\n",
       "      <th>30000</th>\n",
       "    </tr>\n",
       "  </thead>\n",
       "  <tbody>\n",
       "    <tr>\n",
       "      <th>deque.pop()</th>\n",
       "      <td>3.480000e-14</td>\n",
       "      <td>2.420000e-14</td>\n",
       "      <td>2.480000e-14</td>\n",
       "    </tr>\n",
       "    <tr>\n",
       "      <th>deque.popleft</th>\n",
       "      <td>3.690000e-14</td>\n",
       "      <td>2.460000e-14</td>\n",
       "      <td>2.310000e-14</td>\n",
       "    </tr>\n",
       "    <tr>\n",
       "      <th>deque.append(1)</th>\n",
       "      <td>2.660000e-14</td>\n",
       "      <td>4.000000e-14</td>\n",
       "      <td>1.195000e-13</td>\n",
       "    </tr>\n",
       "    <tr>\n",
       "      <th>deque.appendleft(1)</th>\n",
       "      <td>2.470000e-14</td>\n",
       "      <td>3.450000e-14</td>\n",
       "      <td>3.430000e-14</td>\n",
       "    </tr>\n",
       "  </tbody>\n",
       "</table>\n",
       "</div>"
      ],
      "text/plain": [
       "                            10000         20000         30000\n",
       "deque.pop()          3.480000e-14  2.420000e-14  2.480000e-14\n",
       "deque.popleft        3.690000e-14  2.460000e-14  2.310000e-14\n",
       "deque.append(1)      2.660000e-14  4.000000e-14  1.195000e-13\n",
       "deque.appendleft(1)  2.470000e-14  3.450000e-14  3.430000e-14"
      ]
     },
     "execution_count": 9,
     "metadata": {},
     "output_type": "execute_result"
    }
   ],
   "source": [
    "operations = {\n",
    "    'deque.pop()': 'dq.pop()',\n",
    "    'deque.popleft': 'dq.popleft()',\n",
    "    'deque.append(1)': 'dq.append(1)',\n",
    "    'deque.appendleft(1)': 'dq.appendleft(1)'\n",
    "}\n",
    "\n",
    "results = {op: [] for op in operations}\n",
    "\n",
    "for _ in size:\n",
    "    for operation, function in operations.items():\n",
    "        dq_code = f\"from collections import deque\\n\" \\\n",
    "                   f\"dq = deque(range({_}))\"\n",
    "        time = timeit.timeit(stmt=function, setup=dq_code, number=1000)\n",
    "        time /= 1000 * 1e6\n",
    "\n",
    "        results[operation].append(time)\n",
    "\n",
    "df = pd.DataFrame(results, index=[n for n in size])\n",
    "\n",
    "trans = df.transpose()\n",
    "trans.head()"
   ]
  },
  {
   "cell_type": "markdown",
   "metadata": {},
   "source": [
    "10. The efficiency gained by the appendleft and popleft comes at a cost: accesing an\n",
    "element in the middle of a deque is a O(N) operation. Evaluate the time for the next\n",
    "operations with with N = 10 000, 20 000 and 30 000 elements:\n",
    "- deque[0]\n",
    "- deque[N-1]\n",
    "- deque[int(N/2)]\n",
    "\n",
    "Make a table with your results. It should looks like table on pp. 39 on the same book\n",
    "as previous task."
   ]
  },
  {
   "cell_type": "code",
   "execution_count": 17,
   "metadata": {},
   "outputs": [
    {
     "data": {
      "text/html": [
       "<div>\n",
       "<style scoped>\n",
       "    .dataframe tbody tr th:only-of-type {\n",
       "        vertical-align: middle;\n",
       "    }\n",
       "\n",
       "    .dataframe tbody tr th {\n",
       "        vertical-align: top;\n",
       "    }\n",
       "\n",
       "    .dataframe thead th {\n",
       "        text-align: right;\n",
       "    }\n",
       "</style>\n",
       "<table border=\"1\" class=\"dataframe\">\n",
       "  <thead>\n",
       "    <tr style=\"text-align: right;\">\n",
       "      <th></th>\n",
       "      <th>10000</th>\n",
       "      <th>20000</th>\n",
       "      <th>30000</th>\n",
       "    </tr>\n",
       "  </thead>\n",
       "  <tbody>\n",
       "    <tr>\n",
       "      <th>deque[0]</th>\n",
       "      <td>3.560000e-14</td>\n",
       "      <td>3.280000e-14</td>\n",
       "      <td>3.580000e-14</td>\n",
       "    </tr>\n",
       "    <tr>\n",
       "      <th>deque[N-1]</th>\n",
       "      <td>5.570000e-14</td>\n",
       "      <td>5.030000e-14</td>\n",
       "      <td>5.630000e-14</td>\n",
       "    </tr>\n",
       "    <tr>\n",
       "      <th>deque[int(N/2)]</th>\n",
       "      <td>2.699000e-13</td>\n",
       "      <td>4.073000e-13</td>\n",
       "      <td>5.246000e-13</td>\n",
       "    </tr>\n",
       "  </tbody>\n",
       "</table>\n",
       "</div>"
      ],
      "text/plain": [
       "                        10000         20000         30000\n",
       "deque[0]         3.560000e-14  3.280000e-14  3.580000e-14\n",
       "deque[N-1]       5.570000e-14  5.030000e-14  5.630000e-14\n",
       "deque[int(N/2)]  2.699000e-13  4.073000e-13  5.246000e-13"
      ]
     },
     "execution_count": 17,
     "metadata": {},
     "output_type": "execute_result"
    }
   ],
   "source": [
    "operations = {\n",
    "    'deque[0]': 'dq[0]',\n",
    "    'deque[N-1]': 'dq[N-1]',\n",
    "    'deque[int(N/2)]': 'dq[int(N/2)]',\n",
    "}\n",
    "\n",
    "\n",
    "results = {op: [] for op in operations}\n",
    "\n",
    "for _ in size:\n",
    "    for op, stmt in operations.items():\n",
    "        dq_code = f'from collections import deque; N = {_}; dq = deque(range(N))'\n",
    "        time = timeit.timeit(stmt=stmt, setup=dq_code, number=1000)\n",
    "        time /= 1000 * 1e6\n",
    "        results[op].append(time)\n",
    "\n",
    "df_results = pd.DataFrame(results, index=[_  for _ in size])\n",
    "\n",
    "df_transposed = df_results.T\n",
    "\n",
    "df_transposed"
   ]
  }
 ],
 "metadata": {
  "kernelspec": {
   "display_name": "HPC",
   "language": "python",
   "name": "python3"
  },
  "language_info": {
   "codemirror_mode": {
    "name": "ipython",
    "version": 3
   },
   "file_extension": ".py",
   "mimetype": "text/x-python",
   "name": "python",
   "nbconvert_exporter": "python",
   "pygments_lexer": "ipython3",
   "version": "3.11.7"
  }
 },
 "nbformat": 4,
 "nbformat_minor": 2
}
