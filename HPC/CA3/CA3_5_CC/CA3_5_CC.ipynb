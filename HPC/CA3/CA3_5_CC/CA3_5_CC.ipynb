{
 "cells": [
  {
   "cell_type": "markdown",
   "metadata": {},
   "source": [
    "# High Performance Python\n",
    "\n",
    "### Activity 3\n",
    "\n",
    "\n",
    "### Part 5 Compiling to Cython"
   ]
  },
  {
   "cell_type": "markdown",
   "metadata": {},
   "source": [
    "16. Read about the Conway’s Game of Life. Implement all solutions provided on the\n",
    "Cython Material (slides) to obtain the update of the lattice:\n",
    "- Python\n",
    "- Cython 1\n",
    "- Cython 2\n",
    "- Cython 3\n",
    "- Cython 4\n",
    "\n",
    "Explain the improvement on each solution. Reproduce the chart on pp. 33 with the\n",
    "runtime for each solution."
   ]
  },
  {
   "cell_type": "code",
   "execution_count": 79,
   "metadata": {},
   "outputs": [],
   "source": [
    "# Libraries\n",
    "\n",
    "import time\n",
    "import numpy as np\n",
    "import matplotlib.pyplot as plt\n",
    "import timeit\n",
    "\n",
    "\n",
    "# Modules\n",
    "\n",
    "from cython1 import c1_update\n",
    "from cython2_1 import c2_update\n",
    "from cython3 import c3_update\n",
    "from cython4 import c4_update\n",
    "import purepython\n",
    "\n",
    "def initialize_lattice_with_cross(box_size):\n",
    "    lattice = [[0 for _ in range(box_size)] for _ in range(box_size)]\n",
    "\n",
    "    # Define the cross in the center\n",
    "    center = box_size // 2\n",
    "    for i in range(box_size):\n",
    "        # Set middle column cells to 1\n",
    "        lattice[i][center] = 1\n",
    "        # Set middle row cells to 1\n",
    "        lattice[center][i] = 1\n",
    "\n",
    "    return lattice\n",
    "\n",
    "# Assuming update and update_rule functions are defined as you provided\n",
    "box_size = 300\n",
    "lattice = initialize_lattice_with_cross(box_size)\n",
    "\n"
   ]
<<<<<<< HEAD
=======
  },
  {
   "cell_type": "code",
   "execution_count": 80,
   "metadata": {},
   "outputs": [
    {
     "name": "stdout",
     "output_type": "stream",
     "text": [
      "46.5 ms ± 1.33 ms per loop (mean ± std. dev. of 3 runs, 1 loop each)\n"
     ]
    }
   ],
   "source": [
    "# Time the update function\n",
    "%timeit -n 1 -r 3 purepython.update(lattice)"
   ]
  },
  {
   "cell_type": "code",
   "execution_count": 81,
   "metadata": {},
   "outputs": [
    {
     "name": "stdout",
     "output_type": "stream",
     "text": [
      "28.2 ms ± 6.71 ms per loop (mean ± std. dev. of 3 runs, 1 loop each)\n"
     ]
    }
   ],
   "source": [
    "%timeit -n 1 -r 3 c1_update(lattice)"
   ]
  },
  {
   "cell_type": "code",
   "execution_count": 82,
   "metadata": {},
   "outputs": [
    {
     "name": "stdout",
     "output_type": "stream",
     "text": [
      "14.8 ms ± 2.82 ms per loop (mean ± std. dev. of 3 runs, 1 loop each)\n"
     ]
    }
   ],
   "source": [
    "%timeit -n 1 -r 3 c2_update(lattice)"
   ]
  },
  {
   "cell_type": "code",
   "execution_count": 83,
   "metadata": {},
   "outputs": [
    {
     "name": "stdout",
     "output_type": "stream",
     "text": [
      "10.5 ms ± 41.2 µs per loop (mean ± std. dev. of 3 runs, 1 loop each)\n"
     ]
    }
   ],
   "source": [
    "%timeit -n 1 -r 3 c3_update(lattice)"
   ]
  },
  {
   "cell_type": "code",
   "execution_count": 84,
   "metadata": {},
   "outputs": [
    {
     "name": "stdout",
     "output_type": "stream",
     "text": [
      "11.5 ms ± 466 µs per loop (mean ± std. dev. of 3 runs, 1 loop each)\n"
     ]
    }
   ],
   "source": [
    "%timeit -n 1 -r 3 c4_update(lattice)"
   ]
>>>>>>> 69b02f08a0d8bb294aef83f6599fff14acba5700
  }
 ],
 "metadata": {
  "kernelspec": {
   "display_name": "HPC",
   "language": "python",
   "name": "python3"
  },
  "language_info": {
   "codemirror_mode": {
    "name": "ipython",
    "version": 3
   },
   "file_extension": ".py",
   "mimetype": "text/x-python",
   "name": "python",
   "nbconvert_exporter": "python",
   "pygments_lexer": "ipython3",
   "version": "3.10.12"
  }
 },
 "nbformat": 4,
 "nbformat_minor": 2
}
