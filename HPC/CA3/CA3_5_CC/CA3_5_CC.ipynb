{
 "cells": [
  {
   "cell_type": "markdown",
   "metadata": {},
   "source": [
    "# High Performance Python\n",
    "\n",
    "### Activity 3\n",
    "\n",
    "\n",
    "### Part 3 Dictionaries and Sets"
   ]
  },
  {
   "cell_type": "markdown",
   "metadata": {},
   "source": [
    "16. Read about the Conway’s Game of Life. Implement all solutions provided on the\n",
    "Cython Material (slides) to obtain the update of the lattice:\n",
    "- Python\n",
    "- Cython 1\n",
    "- Cython 2\n",
    "- Cython 3\n",
    "- Cython 4\n",
    "\n",
    "Explain the improvement on each solution. Reproduce the chart on pp. 33 with the\n",
    "runtime for each solution."
   ]
  },
  {
   "cell_type": "code",
   "execution_count": 8,
   "metadata": {},
   "outputs": [
    {
     "ename": "ModuleNotFoundError",
     "evalue": "No module named 'cython1'",
     "output_type": "error",
     "traceback": [
      "\u001b[1;31m---------------------------------------------------------------------------\u001b[0m",
      "\u001b[1;31mModuleNotFoundError\u001b[0m                       Traceback (most recent call last)",
      "Cell \u001b[1;32mIn[8], line 11\u001b[0m\n\u001b[0;32m      6\u001b[0m \u001b[38;5;28;01mimport\u001b[39;00m \u001b[38;5;21;01mtimeit\u001b[39;00m\n\u001b[0;32m      9\u001b[0m \u001b[38;5;66;03m# Modules\u001b[39;00m\n\u001b[1;32m---> 11\u001b[0m \u001b[38;5;28;01mfrom\u001b[39;00m \u001b[38;5;21;01mcython1\u001b[39;00m \u001b[38;5;28;01mimport\u001b[39;00m \u001b[38;5;241m*\u001b[39m\n\u001b[0;32m     12\u001b[0m \u001b[38;5;66;03m#from cython2 import *\u001b[39;00m\n\u001b[0;32m     13\u001b[0m \u001b[38;5;66;03m#from cython3 import *\u001b[39;00m\n\u001b[0;32m     14\u001b[0m \u001b[38;5;66;03m#from cython4 import *\u001b[39;00m\n\u001b[0;32m     15\u001b[0m \u001b[38;5;28;01mimport\u001b[39;00m \u001b[38;5;21;01mpurepython\u001b[39;00m\n",
      "\u001b[1;31mModuleNotFoundError\u001b[0m: No module named 'cython1'"
     ]
    }
   ],
   "source": [
    "# Libraries\n",
    "\n",
    "import time\n",
    "import numpy as np\n",
    "import matplotlib.pyplot as plt\n",
    "import timeit\n",
    "\n",
    "\n",
    "# Modules\n",
    "\n",
    "from cython1 import *\n",
    "#from cython2 import *\n",
    "#from cython3 import *\n",
    "#from cython4 import *\n",
    "import purepython\n",
    "\n",
    "def initialize_lattice_with_cross(box_size):\n",
    "    lattice = [[0 for _ in range(box_size)] for _ in range(box_size)]\n",
    "\n",
    "    # Define the cross in the center\n",
    "    center = box_size // 2\n",
    "    for i in range(box_size):\n",
    "        # Set middle column cells to 1\n",
    "        lattice[i][center] = 1\n",
    "        # Set middle row cells to 1\n",
    "        lattice[center][i] = 1\n",
    "\n",
    "    return lattice\n",
    "\n",
    "# Assuming update and update_rule functions are defined as you provided\n",
    "box_size = 300\n",
    "lattice = initialize_lattice_with_cross(box_size)\n",
    "\n",
    "# Time the update function\n",
    "%timeit -n 1 -r 3 purepython.update(lattice)\n",
    "%timeit -n 1 -r 3 cython1.c1_update(lattice)\n"
   ]
  },
  {
   "cell_type": "code",
   "execution_count": null,
   "metadata": {},
   "outputs": [],
   "source": []
  }
 ],
 "metadata": {
  "kernelspec": {
   "display_name": "HPC",
   "language": "python",
   "name": "python3"
  },
  "language_info": {
   "codemirror_mode": {
    "name": "ipython",
    "version": 3
   },
   "file_extension": ".py",
   "mimetype": "text/x-python",
   "name": "python",
   "nbconvert_exporter": "python",
   "pygments_lexer": "ipython3",
   "version": "3.11.7"
  }
 },
 "nbformat": 4,
 "nbformat_minor": 2
}
