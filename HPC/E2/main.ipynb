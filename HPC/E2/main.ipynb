{
 "cells": [
  {
   "cell_type": "markdown",
   "metadata": {},
   "source": [
    "# E2 Implementing and Comparing K Means Clustering Algorithms"
   ]
  },
  {
   "cell_type": "markdown",
   "metadata": {},
   "source": [
    "### Objective\n",
    "The objective of this project is to implement and compare different versions of the K Means clustering algorithm. You will be implementing three versions of the algorithm: Pure Python, Numpy Arrays, and Cython. Additionally, you will use profiling techniques to analyze the performance of  each  implementation  and  compare  them  as  a  function  of  the  size  of  the problem."
   ]
  },
  {
   "cell_type": "markdown",
   "metadata": {},
   "source": [
    "## Python Profiling"
   ]
  },
  {
   "cell_type": "code",
   "execution_count": 6,
   "metadata": {},
   "outputs": [],
   "source": [
    "from pure import kmeans\n",
    "import random"
   ]
  },
  {
   "cell_type": "code",
   "execution_count": 12,
   "metadata": {},
   "outputs": [
    {
     "name": "stdout",
     "output_type": "stream",
     "text": [
      "3.06 s ± 1.15 s per loop (mean ± std. dev. of 7 runs, 1 loop each)\n"
     ]
    },
    {
     "name": "stdout",
     "output_type": "stream",
     "text": [
      "Timer unit: 1e-09 s\n",
      "\n",
      "Total time: 4.53508 s\n",
      "File: /home/juan/Desktop/upystuff/HPC/E2/pure.py\n",
      "Function: fit at line 13\n",
      "\n",
      "Line #      Hits         Time  Per Hit   % Time  Line Contents\n",
      "==============================================================\n",
      "    13                                               def fit(self, data):\n",
      "    14         1      25909.0  25909.0      0.0          self.centroids = random.sample(data, self.k)              \n",
      "    15        37      10850.0    293.2      0.0          for _ in range(self.max_iterations):           \n",
      "    16        37 4486266126.0    1e+08     98.9              self.clusters = self.addPoints(data)             \n",
      "    17        37   48676728.0    1e+06      1.1              new_centroids = self.update()             \n",
      "    18        37      59523.0   1608.7      0.0              if self.convergence(new_centroids):\n",
      "    19         1        181.0    181.0      0.0                  break  \n",
      "    20        36      41160.0   1143.3      0.0              self.centroids = new_centroids"
     ]
    }
   ],
   "source": [
    "data = [[random.randint(0, 100), random.randint(0, 100)] for _ in range(10_000)]\n",
    "\n",
    "kmeans_model = kmeans()\n",
    "\n",
    "%timeit kmeans_model.fit(data)\n",
    "%load_ext line_profiler\n",
    "%lprun -f kmeans_model.fit kmeans_model.fit(data)"
   ]
  },
  {
   "cell_type": "markdown",
   "metadata": {},
   "source": [
    "## Numpy Profiling\n"
   ]
  },
  {
   "cell_type": "code",
   "execution_count": 8,
   "metadata": {},
   "outputs": [],
   "source": [
    "import numpy as np\n",
    "from kmeans_numpy import numpy_kmeans"
   ]
  },
  {
   "cell_type": "code",
   "execution_count": 13,
   "metadata": {},
   "outputs": [
    {
     "name": "stdout",
     "output_type": "stream",
     "text": [
      "116 ms ± 8.78 ms per loop (mean ± std. dev. of 7 runs, 10 loops each)\n"
     ]
    },
    {
     "name": "stdout",
     "output_type": "stream",
     "text": [
      "Timer unit: 1e-09 s\n",
      "\n",
      "Total time: 0.140973 s\n",
      "File: /home/juan/Desktop/upystuff/HPC/E2/kmeans_numpy.py\n",
      "Function: fit at line 10\n",
      "\n",
      "Line #      Hits         Time  Per Hit   % Time  Line Contents\n",
      "==============================================================\n",
      "    10                                               def fit(self, data):\n",
      "    11         1    1496657.0    1e+06      1.1          data = np.array(data)\n",
      "    12         1        807.0    807.0      0.0          sample = data.shape[0]\n",
      "    13         1      32741.0  32741.0      0.0          indices = random.sample(range(sample), self.k)\n",
      "    14         1      11660.0  11660.0      0.0          self.centroids = data[indices, :]\n",
      "    15                                           \n",
      "    16        46       8892.0    193.3      0.0          for i in range(self.max_iterations):\n",
      "    17        46    1334544.0  29011.8      0.9              distances = np.zeros((sample, self.k))\n",
      "    18       506     367349.0    726.0      0.3              for i, centroid in enumerate(self.centroids):\n",
      "    19       460   98242821.0 213571.4     69.7                  distances[:, i] = np.sum((data - centroid) ** 2, axis=1)\n",
      "    20        46   10378596.0 225621.7      7.4              closest_centroids = np.argmin(distances, axis=1)\n",
      "    21        46   26786968.0 582325.4     19.0              newCentroid = np.array([data[closest_centroids == i].mean(axis=0) for i in range(self.k)])\n",
      "    22                                                       \n",
      "    23        46    2295999.0  49913.0      1.6              if np.allclose(self.centroids, newCentroid):\n",
      "    24         1        163.0    163.0      0.0                  break\n",
      "    25        45      15469.0    343.8      0.0              self.centroids = newCentroid"
     ]
    }
   ],
   "source": [
    "data_numpy = [[random.randint(0, 100), random.randint(0, 100)] for _ in range(10_000)]\n",
    "kmeans_numpy = numpy_kmeans()\n",
    "%timeit kmeans_numpy.fit(data_numpy)\n",
    "%lprun -f kmeans_numpy.fit kmeans_numpy.fit(data_numpy)"
   ]
  },
  {
   "cell_type": "markdown",
   "metadata": {},
   "source": [
    "## Cython Profiling\n"
   ]
  },
  {
   "cell_type": "code",
   "execution_count": 14,
   "metadata": {},
   "outputs": [
    {
     "name": "stdout",
     "output_type": "stream",
     "text": [
      "28.8 ms ± 5.62 ms per loop (mean ± std. dev. of 7 runs, 10 loops each)\n"
     ]
    },
    {
     "name": "stdout",
     "output_type": "stream",
     "text": [
      "Timer unit: 1e-09 s"
     ]
    }
   ],
   "source": [
    "from kmeans_cython import numpy_kmeans as cython_kmeans\n",
    "import numpy as np\n",
    "\n",
    "data_cython = [[random.randint(0, 100), random.randint(0, 100)] for _ in range(10_000)]\n",
    "kmeans_cython = cython_kmeans()\n",
    "%timeit kmeans_cython.fit(data_cython)\n",
    "%lprun -f kmeans_cython.fit kmeans_cython.fit(data_cython)"
   ]
  }
 ],
 "metadata": {
  "kernelspec": {
   "display_name": "HPC",
   "language": "python",
   "name": "python3"
  },
  "language_info": {
   "codemirror_mode": {
    "name": "ipython",
    "version": 3
   },
   "file_extension": ".py",
   "mimetype": "text/x-python",
   "name": "python",
   "nbconvert_exporter": "python",
   "pygments_lexer": "ipython3",
   "version": "3.10.12"
  }
 },
 "nbformat": 4,
 "nbformat_minor": 2
}
