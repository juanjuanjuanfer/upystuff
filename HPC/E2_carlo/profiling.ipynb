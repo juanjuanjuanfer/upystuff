{
 "cells": [
  {
   "cell_type": "markdown",
   "metadata": {},
   "source": [
    "Pure python profiling"
   ]
  },
  {
   "cell_type": "code",
   "execution_count": 27,
   "metadata": {},
   "outputs": [],
   "source": [
    "from purepython import KMeans\n",
    "import random \n",
    "\n",
    "size = 1000\n",
    "dimensions = 2\n",
    "k = 10\n",
    "\n",
    "data = [[random.random() for _ in range(dimensions)] for _ in range(size)]\n",
    "\n",
    "\n"
   ]
  },
  {
   "cell_type": "code",
   "execution_count": 28,
   "metadata": {},
   "outputs": [
    {
     "name": "stdout",
     "output_type": "stream",
     "text": [
      "603 ms ± 15.3 ms per loop (mean ± std. dev. of 7 runs, 1 loop each)\n"
     ]
    }
   ],
   "source": [
    "%%timeit\n",
    "kmeans = KMeans(k, dimensions)\n",
    "kmeans.fit(data)"
   ]
  },
  {
   "cell_type": "markdown",
   "metadata": {},
   "source": [
    "Numpy implementation profiling"
   ]
  },
  {
   "cell_type": "code",
   "execution_count": 29,
   "metadata": {},
   "outputs": [
    {
     "name": "stdout",
     "output_type": "stream",
     "text": [
      "564 ms ± 25.4 ms per loop (mean ± std. dev. of 7 runs, 1 loop each)\n"
     ]
    }
   ],
   "source": [
    "from numpykmeans import k_means as k_means_numpy\n",
    "import numpy as np\n",
    "\n",
    "\n",
    "size = 1000\n",
    "dimensions = 2\n",
    "k = 10\n",
    "\n",
    "data = np.random.rand(size, dimensions)\n",
    "\n",
    "%timeit kmeans = k_means_numpy(k, data, dimensions)"
   ]
  },
  {
   "cell_type": "markdown",
   "metadata": {},
   "source": [
    "Cython profiling"
   ]
  },
  {
   "cell_type": "code",
   "execution_count": 30,
   "metadata": {},
   "outputs": [
    {
     "name": "stdout",
     "output_type": "stream",
     "text": [
      "554 ms ± 6.98 ms per loop (mean ± std. dev. of 7 runs, 1 loop each)\n"
     ]
    }
   ],
   "source": [
    "from kmeans_cython import k_means as k_means_cython\n",
    "import numpy as np\n",
    "\n",
    "size = 1000\n",
    "dimensions = 2\n",
    "k = 10\n",
    "\n",
    "data = np.random.rand(size, dimensions)\n",
    "\n",
    "%timeit k_means_cython(k, data, dimensions)"
   ]
  }
 ],
 "metadata": {
  "kernelspec": {
   "display_name": "e2env",
   "language": "python",
   "name": "python3"
  },
  "language_info": {
   "codemirror_mode": {
    "name": "ipython",
    "version": 3
   },
   "file_extension": ".py",
   "mimetype": "text/x-python",
   "name": "python",
   "nbconvert_exporter": "python",
   "pygments_lexer": "ipython3",
   "version": "3.10.12"
  }
 },
 "nbformat": 4,
 "nbformat_minor": 2
}
