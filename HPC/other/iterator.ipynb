{
 "cells": [
  {
   "cell_type": "code",
   "execution_count": 67,
   "id": "bf6fd384-5a6d-4221-ae3f-209796e52d16",
   "metadata": {},
   "outputs": [
    {
     "name": "stdout",
     "output_type": "stream",
     "text": [
      "Requirement already satisfied: memory-profiler in c:\\users\\juanj\\anaconda3\\envs\\hpc\\lib\\site-packages (0.61.0)\n",
      "Requirement already satisfied: psutil in c:\\users\\juanj\\anaconda3\\envs\\hpc\\lib\\site-packages (from memory-profiler) (5.9.0)\n"
     ]
    }
   ],
   "source": [
    "!pip install memory-profiler"
   ]
  },
  {
   "cell_type": "code",
   "execution_count": 68,
   "id": "01734ad5-3145-4013-97e7-4ca2dc60688e",
   "metadata": {},
   "outputs": [
    {
     "name": "stdout",
     "output_type": "stream",
     "text": [
      "The memory_profiler extension is already loaded. To reload it, use:\n",
      "  %reload_ext memory_profiler\n"
     ]
    }
   ],
   "source": [
    "%load_ext memory_profiler"
   ]
  },
  {
   "cell_type": "markdown",
   "id": "7d27b30e-1197-455c-ad27-3bfb4eb7df50",
   "metadata": {},
   "source": [
    "## OBTAIN THE FIRST 100,000 ELEMENTS OF THE FIBONACCI SERIES"
   ]
  },
  {
   "cell_type": "code",
   "execution_count": 69,
   "id": "b27600db-789d-4bb5-85c9-210b0f73cca5",
   "metadata": {},
   "outputs": [],
   "source": [
    "def fibonacci_list(n=10):\n",
    "    '''\n",
    "    Returns the Fibonacci Series to a number n >= 3.\n",
    "    '''\n",
    "    result = [0,1]\n",
    "    for x in range(n-2):\n",
    "        result.append(result[-1] + result[-2])\n",
    "    return result "
   ]
  },
  {
   "cell_type": "code",
   "execution_count": 70,
   "id": "86a98a7a-af2a-401c-995a-6670cbb12787",
   "metadata": {},
   "outputs": [
    {
     "data": {
      "text/plain": [
       "[0, 1, 1, 2, 3, 5, 8, 13, 21, 34]"
      ]
     },
     "execution_count": 70,
     "metadata": {},
     "output_type": "execute_result"
    }
   ],
   "source": [
    "fibonacci_list()"
   ]
  },
  {
   "cell_type": "markdown",
   "id": "a282caca-cacc-468f-9428-e1798a0f168a",
   "metadata": {},
   "source": [
    "## ITERATE OVER THE GENERATED LIST AND COMPLETE THE PROFILING"
   ]
  },
  {
   "cell_type": "code",
   "execution_count": 71,
   "id": "39a90a15-4e5f-486e-a489-5599836b466c",
   "metadata": {},
   "outputs": [],
   "source": [
    "def test_fib_list():\n",
    "    for i in fibonacci_list(100000):\n",
    "        pass"
   ]
  },
  {
   "cell_type": "code",
   "execution_count": 72,
   "id": "9d73dd83-209c-4ec4-a95c-0175779c095d",
   "metadata": {},
   "outputs": [
    {
     "name": "stdout",
     "output_type": "stream",
     "text": [
      "12.6 ns ± 0.984 ns per loop (mean ± std. dev. of 7 runs, 100,000,000 loops each)\n"
     ]
    }
   ],
   "source": [
    "%timeit test_fib_list"
   ]
  },
  {
   "cell_type": "code",
   "execution_count": 73,
   "id": "f5529803-6df9-4178-8ec9-248877163122",
   "metadata": {},
   "outputs": [
    {
     "name": "stdout",
     "output_type": "stream",
     "text": [
      "peak memory: 992.99 MiB, increment: 0.00 MiB\n"
     ]
    }
   ],
   "source": [
    "%memit test_fib_list"
   ]
  },
  {
   "cell_type": "markdown",
   "id": "c4470875-d518-4fa0-b52b-f026ce6567ad",
   "metadata": {},
   "source": [
    "## CREATE AN ITERATOR USIGN THE KEYWORD \"yield\""
   ]
  },
  {
   "cell_type": "code",
   "execution_count": 74,
   "id": "2a227b4e-f25b-4efa-b835-15d93fd40583",
   "metadata": {},
   "outputs": [],
   "source": [
    "def fibonacci_gen(n=100000):\n",
    "    i,j = 0,1\n",
    "    while n:\n",
    "        yield i # yield returns but keeps the function process\n",
    "        i,j = j, i+j\n",
    "        n -= 1"
   ]
  },
  {
   "cell_type": "code",
   "execution_count": 75,
   "id": "c256b463-834c-4515-80c5-c30354e11d2c",
   "metadata": {},
   "outputs": [],
   "source": [
    "def test_fib_gen():\n",
    "    for i in fibonacci_gen(100000):\n",
    "        pass"
   ]
  },
  {
   "cell_type": "code",
   "execution_count": 76,
   "id": "fdb47f5e-340b-4629-8746-e92415a087d5",
   "metadata": {},
   "outputs": [
    {
     "name": "stdout",
     "output_type": "stream",
     "text": [
      "85 ms ± 11.4 ms per loop (mean ± std. dev. of 7 runs, 10 loops each)\n"
     ]
    }
   ],
   "source": [
    "%timeit test_fib_gen()"
   ]
  },
  {
   "cell_type": "code",
   "execution_count": 77,
   "id": "b7ec9716-dbc9-4dae-b8e7-979f44caaf3d",
   "metadata": {},
   "outputs": [
    {
     "name": "stdout",
     "output_type": "stream",
     "text": [
      "peak memory: 992.58 MiB, increment: 0.00 MiB\n"
     ]
    }
   ],
   "source": [
    "%memit test_fib_gen()"
   ]
  },
  {
   "cell_type": "markdown",
   "id": "fe63482e-10a0-4904-b959-5cc87df126eb",
   "metadata": {},
   "source": [
    "## HOW MANY OF THE FIRST 100,000 FIBONACCI NUMBERS ARE DIVISIBLE BY THREE?"
   ]
  },
  {
   "cell_type": "code",
   "execution_count": 78,
   "id": "6d3b6501-223e-4220-a765-e363dd9e2af7",
   "metadata": {},
   "outputs": [
    {
     "data": {
      "text/plain": [
       "25000"
      ]
     },
     "execution_count": 78,
     "metadata": {},
     "output_type": "execute_result"
    }
   ],
   "source": [
    "len([x for x in fibonacci_gen() if x % 3 == 0])"
   ]
  },
  {
   "cell_type": "code",
   "execution_count": 79,
   "id": "dca413ef-d7cc-4acb-baa0-914348575f50",
   "metadata": {},
   "outputs": [
    {
     "name": "stdout",
     "output_type": "stream",
     "text": [
      "780 ms ± 89.6 ms per loop (mean ± std. dev. of 7 runs, 1 loop each)\n"
     ]
    }
   ],
   "source": [
    "%timeit len([x for x in fibonacci_gen() if x % 3 == 0])"
   ]
  },
  {
   "cell_type": "code",
   "execution_count": 80,
   "id": "0c8ef685-f554-4416-8aef-ac59caee7a04",
   "metadata": {},
   "outputs": [
    {
     "name": "stdout",
     "output_type": "stream",
     "text": [
      "peak memory: 993.23 MiB, increment: 0.07 MiB\n"
     ]
    }
   ],
   "source": [
    "%memit len([x for x in fibonacci_gen() if x % 3 == 0])"
   ]
  },
  {
   "cell_type": "code",
   "execution_count": 81,
   "id": "365bced9-36ad-42b6-841d-5567d9666955",
   "metadata": {},
   "outputs": [
    {
     "data": {
      "text/plain": [
       "25000"
      ]
     },
     "execution_count": 81,
     "metadata": {},
     "output_type": "execute_result"
    }
   ],
   "source": [
    "sum(1 for n in fibonacci_gen() if n %3 == 0)"
   ]
  },
  {
   "cell_type": "code",
   "execution_count": 82,
   "id": "5af63949-7bb4-4625-b518-dc36f2748ebd",
   "metadata": {},
   "outputs": [
    {
     "name": "stdout",
     "output_type": "stream",
     "text": [
      "834 ms ± 46.7 ms per loop (mean ± std. dev. of 7 runs, 1 loop each)\n"
     ]
    }
   ],
   "source": [
    "%timeit sum(1 for n in fibonacci_gen() if n %3 == 0)"
   ]
  },
  {
   "cell_type": "code",
   "execution_count": 83,
   "id": "30046054-f3bb-44a8-8d86-7ebbedaab245",
   "metadata": {},
   "outputs": [
    {
     "name": "stdout",
     "output_type": "stream",
     "text": [
      "peak memory: 993.23 MiB, increment: 0.00 MiB\n"
     ]
    }
   ],
   "source": [
    "%memit sum(1 for n in fibonacci_gen() if n %3 == 0)"
   ]
  },
  {
   "cell_type": "markdown",
   "id": "9ce8c6c3-f638-4c2a-90e1-fb0a3b099017",
   "metadata": {},
   "source": [
    "## HOW MANY FIBONACCI NUMBERS BELOW 5000000 ARE ODD?"
   ]
  },
  {
   "cell_type": "code",
   "execution_count": 88,
   "id": "985f0947-6d4a-4845-8fbd-69e8cb2a818f",
   "metadata": {},
   "outputs": [],
   "source": [
    "def fibonacci_n():\n",
    "    i,j = 0,1\n",
    "    count = 0\n",
    "    while j <= 5000000:\n",
    "        if j %2:\n",
    "            count += 1\n",
    "        i,j = j, i+j \n",
    "    return count"
   ]
  },
  {
   "cell_type": "code",
   "execution_count": 97,
   "id": "70984e95-3647-4fac-8caf-4cc05be2f675",
   "metadata": {},
   "outputs": [],
   "source": [
    "def fibonacci():\n",
    "    i,j =0,1\n",
    "    while True:\n",
    "        yield i\n",
    "        i,j = j, i+j"
   ]
  },
  {
   "cell_type": "code",
   "execution_count": 98,
   "id": "7e215975-c68e-4f51-aeee-6c9b3bf44647",
   "metadata": {},
   "outputs": [],
   "source": [
    "def fibonacci_iter():\n",
    "    count=0\n",
    "    for value in fibonacci():\n",
    "        if value > 5000000:\n",
    "            break\n",
    "        if value %2:\n",
    "            count += 1\n",
    "    return count"
   ]
  },
  {
   "cell_type": "code",
   "execution_count": 99,
   "id": "a99f5f81-cb97-4688-8c83-0b7371c7b675",
   "metadata": {},
   "outputs": [
    {
     "data": {
      "text/plain": [
       "22"
      ]
     },
     "execution_count": 99,
     "metadata": {},
     "output_type": "execute_result"
    }
   ],
   "source": [
    "fibonacci_n()"
   ]
  },
  {
   "cell_type": "code",
   "execution_count": 107,
   "id": "4479c42d-390f-4aaa-bdc2-27c3af4f7566",
   "metadata": {},
   "outputs": [
    {
     "name": "stdout",
     "output_type": "stream",
     "text": [
      "2.29 µs ± 401 ns per loop (mean ± std. dev. of 7 runs, 100,000 loops each)\n"
     ]
    }
   ],
   "source": [
    "%timeit fibonacci_n()"
   ]
  },
  {
   "cell_type": "code",
   "execution_count": 108,
   "id": "fcc000df-cb07-42eb-aca7-4c519e9cbdb3",
   "metadata": {},
   "outputs": [
    {
     "name": "stdout",
     "output_type": "stream",
     "text": [
      "peak memory: 984.79 MiB, increment: 0.00 MiB\n"
     ]
    }
   ],
   "source": [
    "%memit fibonacci_n()"
   ]
  },
  {
   "cell_type": "code",
   "execution_count": 100,
   "id": "cd74631f-88c2-41dd-8ef3-84434e8bef9f",
   "metadata": {},
   "outputs": [
    {
     "data": {
      "text/plain": [
       "22"
      ]
     },
     "execution_count": 100,
     "metadata": {},
     "output_type": "execute_result"
    }
   ],
   "source": [
    "fibonacci_iter()"
   ]
  },
  {
   "cell_type": "code",
   "execution_count": 109,
   "id": "26ed3af1-96f1-4557-867c-2bfbcd062aac",
   "metadata": {},
   "outputs": [
    {
     "name": "stdout",
     "output_type": "stream",
     "text": [
      "4.26 µs ± 418 ns per loop (mean ± std. dev. of 7 runs, 100,000 loops each)\n"
     ]
    }
   ],
   "source": [
    "%timeit fibonacci_iter()"
   ]
  },
  {
   "cell_type": "code",
   "execution_count": 110,
   "id": "905285ba-d5f7-4097-abe1-1a6e6c1573c1",
   "metadata": {},
   "outputs": [
    {
     "name": "stdout",
     "output_type": "stream",
     "text": [
      "peak memory: 984.79 MiB, increment: 0.00 MiB\n"
     ]
    }
   ],
   "source": [
    "%memit fibonacci_iter()"
   ]
  },
  {
   "cell_type": "code",
   "execution_count": 101,
   "id": "5ceab030-5c5a-4f5a-821a-58e86712cbfa",
   "metadata": {},
   "outputs": [],
   "source": [
    "from itertools import takewhile"
   ]
  },
  {
   "cell_type": "code",
   "execution_count": 113,
   "id": "74c297df-7868-4189-8138-16ab87fc87b1",
   "metadata": {},
   "outputs": [],
   "source": [
    "def fibonacci_tw():\n",
    "    first_5000 = takewhile(lambda x:x < 50000000000, fibonacci())\n",
    "    return sum(1 for item in first_5000 if item % 2)"
   ]
  },
  {
   "cell_type": "code",
   "execution_count": 114,
   "id": "1ce4ec45-24c1-48f4-815f-0aaf97fa4814",
   "metadata": {},
   "outputs": [
    {
     "data": {
      "text/plain": [
       "35"
      ]
     },
     "execution_count": 114,
     "metadata": {},
     "output_type": "execute_result"
    }
   ],
   "source": [
    "fibonacci_tw()"
   ]
  },
  {
   "cell_type": "code",
   "execution_count": 115,
   "id": "5dce194f-35d2-4fd4-8d28-e80b8ab9805a",
   "metadata": {},
   "outputs": [
    {
     "name": "stdout",
     "output_type": "stream",
     "text": [
      "9.6 µs ± 1.09 µs per loop (mean ± std. dev. of 7 runs, 100,000 loops each)\n"
     ]
    }
   ],
   "source": [
    "%timeit fibonacci_tw()"
   ]
  },
  {
   "cell_type": "code",
   "execution_count": 116,
   "id": "c0bd1d4d-9493-44a5-840f-607372844597",
   "metadata": {},
   "outputs": [
    {
     "name": "stdout",
     "output_type": "stream",
     "text": [
      "peak memory: 984.79 MiB, increment: 0.00 MiB\n"
     ]
    }
   ],
   "source": [
    "%memit fibonacci_tw()"
   ]
  }
 ],
 "metadata": {
  "kernelspec": {
   "display_name": "Python 3 (ipykernel)",
   "language": "python",
   "name": "python3"
  },
  "language_info": {
   "codemirror_mode": {
    "name": "ipython",
    "version": 3
   },
   "file_extension": ".py",
   "mimetype": "text/x-python",
   "name": "python",
   "nbconvert_exporter": "python",
   "pygments_lexer": "ipython3",
   "version": "3.11.7"
  }
 },
 "nbformat": 4,
 "nbformat_minor": 5
}
