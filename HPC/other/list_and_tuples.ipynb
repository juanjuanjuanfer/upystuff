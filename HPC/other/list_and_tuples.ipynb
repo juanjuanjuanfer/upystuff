{
 "cells": [
  {
   "cell_type": "markdown",
   "id": "00e525e1-f0de-4d47-b94a-335769b27d6c",
   "metadata": {},
   "source": [
    "# Lists and Tuples"
   ]
  },
  {
   "cell_type": "code",
   "execution_count": 14,
   "id": "2fa0d345-cdd3-4ec1-b8d1-7494e0cf5986",
   "metadata": {
    "tags": []
   },
   "outputs": [],
   "source": [
    "l = list(range(1000000))"
   ]
  },
  {
   "cell_type": "code",
   "execution_count": 15,
   "id": "dff3f3e2-6a64-44ff-8ec8-9f43226ed960",
   "metadata": {
    "tags": []
   },
   "outputs": [],
   "source": [
    "def linear_search(n,array):\n",
    "    '''\n",
    "    Function that finds a number in an array by linear search. If the number was not found, return -1.\n",
    "    '''\n",
    "    for i in range(len(array)):\n",
    "        if array[i] == n:\n",
    "            return i\n",
    "    return -1"
   ]
  },
  {
   "cell_type": "code",
   "execution_count": 16,
   "id": "aa8a9679-39ac-4fa0-9275-3ca317868923",
   "metadata": {
    "tags": []
   },
   "outputs": [
    {
     "name": "stdout",
     "output_type": "stream",
     "text": [
      "8\n",
      "-1\n"
     ]
    }
   ],
   "source": [
    "array = [1,2,3,4,5,6,7,8,9]\n",
    "a = linear_search(8,l)\n",
    "print(a)\n",
    "b = linear_search(22,array)\n",
    "print(b)"
   ]
  },
  {
   "cell_type": "markdown",
   "id": "a2fb7494-da01-415e-9c39-80d76fd03261",
   "metadata": {},
   "source": [
    "# List vs Tuples"
   ]
  },
  {
   "cell_type": "code",
   "execution_count": 27,
   "id": "847f83e3-cca1-4bcf-8072-131acd0123ce",
   "metadata": {
    "tags": []
   },
   "outputs": [
    {
     "name": "stdout",
     "output_type": "stream",
     "text": [
      "230 ns ± 23 ns per loop (mean ± std. dev. of 7 runs, 1,000,000 loops each)\n"
     ]
    }
   ],
   "source": [
    "%timeit l = list(range(10))"
   ]
  },
  {
   "cell_type": "code",
   "execution_count": 25,
   "id": "58e14a35-a86f-4ec8-bb3c-d20023f64819",
   "metadata": {
    "tags": []
   },
   "outputs": [
    {
     "name": "stdout",
     "output_type": "stream",
     "text": [
      "190 ns ± 18.2 ns per loop (mean ± std. dev. of 7 runs, 1,000,000 loops each)\n"
     ]
    }
   ],
   "source": [
    "%timeit t = tuple(range(10))"
   ]
  },
  {
   "cell_type": "markdown",
   "id": "52798eec-a183-49fa-b31c-db369248cf9a",
   "metadata": {},
   "source": [
    "---\n",
    "- [ ] # - [ ] **PROHIBIDO USAR APPEND, ES UN PENDEJO**\n",
    "---"
   ]
  },
  {
   "cell_type": "code",
   "execution_count": 29,
   "id": "b1d94e5c-1b25-41d8-bfeb-1fc3e3fb5eb7",
   "metadata": {
    "tags": []
   },
   "outputs": [
    {
     "name": "stdout",
     "output_type": "stream",
     "text": [
      "3.04 ms ± 167 µs per loop (mean ± std. dev. of 7 runs, 100 loops each)\n"
     ]
    }
   ],
   "source": [
    "%timeit a = [i for i in range(100000)]"
   ]
  },
  {
   "cell_type": "code",
   "execution_count": 31,
   "id": "a3ada7d1-c454-4bea-8f2c-f3b4be149738",
   "metadata": {
    "tags": []
   },
   "outputs": [
    {
     "name": "stdout",
     "output_type": "stream",
     "text": [
      "5.94 ms ± 549 µs per loop (mean ± std. dev. of 7 runs, 100 loops each)\n"
     ]
    }
   ],
   "source": [
    "%%timeit b = []\n",
    "for i in range(100000):\n",
    "    b.append(i)"
   ]
  }
 ],
 "metadata": {
  "kernelspec": {
   "display_name": "Python 3 (ipykernel)",
   "language": "python",
   "name": "python3"
  },
  "language_info": {
   "codemirror_mode": {
    "name": "ipython",
    "version": 3
   },
   "file_extension": ".py",
   "mimetype": "text/x-python",
   "name": "python",
   "nbconvert_exporter": "python",
   "pygments_lexer": "ipython3",
   "version": "3.11.5"
  }
 },
 "nbformat": 4,
 "nbformat_minor": 5
}
