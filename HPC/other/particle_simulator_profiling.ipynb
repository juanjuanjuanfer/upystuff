{
 "cells": [
  {
   "cell_type": "code",
   "execution_count": 1,
   "id": "41e8b244-bb68-46a0-a976-068c964a0a42",
   "metadata": {},
   "outputs": [],
   "source": [
    "from particle_simulator2 import benchmark\n",
    "\n",
    "import cProfile"
   ]
  },
  {
   "cell_type": "code",
   "execution_count": 2,
   "id": "9f688108-076d-409c-8a3b-3e4fd6d2d894",
   "metadata": {},
   "outputs": [
    {
     "name": "stdout",
     "output_type": "stream",
     "text": [
      "         707 function calls in 0.593 seconds\n",
      "\n",
      "   Ordered by: standard name\n",
      "\n",
      "   ncalls  tottime  percall  cumtime  percall filename:lineno(function)\n",
      "        1    0.000    0.000    0.593    0.593 <string>:1(<module>)\n",
      "        1    0.000    0.000    0.000    0.000 particle_simulator2.py:13(__init__)\n",
      "        1    0.593    0.593    0.593    0.593 particle_simulator2.py:16(evolve)\n",
      "        1    0.000    0.000    0.593    0.593 particle_simulator2.py:65(benchmark)\n",
      "        1    0.000    0.000    0.000    0.000 particle_simulator2.py:66(<listcomp>)\n",
      "      100    0.000    0.000    0.000    0.000 particle_simulator2.py:7(__init__)\n",
      "      300    0.000    0.000    0.000    0.000 random.py:546(uniform)\n",
      "        1    0.000    0.000    0.593    0.593 {built-in method builtins.exec}\n",
      "        1    0.000    0.000    0.000    0.000 {method 'disable' of '_lsprof.Profiler' objects}\n",
      "      300    0.000    0.000    0.000    0.000 {method 'random' of '_random.Random' objects}\n",
      "\n",
      "\n"
     ]
    }
   ],
   "source": [
    "cProfile.run(\"benchmark()\")"
   ]
  },
  {
   "cell_type": "code",
   "execution_count": 3,
   "id": "a77a6b51-dc9c-4fba-8d02-f20f00e752ca",
   "metadata": {},
   "outputs": [],
   "source": [
    "pr = cProfile.Profile()"
   ]
  },
  {
   "cell_type": "code",
   "execution_count": 4,
   "id": "aa1aa4d1-853f-4ea2-a1ec-25b895c3d8d3",
   "metadata": {},
   "outputs": [
    {
     "name": "stdout",
     "output_type": "stream",
     "text": [
      "hi\n",
      "         819 function calls in 0.564 seconds\n",
      "\n",
      "   Ordered by: standard name\n",
      "\n",
      "   ncalls  tottime  percall  cumtime  percall filename:lineno(function)\n",
      "        1    0.000    0.000    0.000    0.000 395928212.py:1(<module>)\n",
      "        3    0.000    0.000    0.000    0.000 codeop.py:117(__call__)\n",
      "        6    0.000    0.000    0.000    0.000 compilerop.py:180(extra_flags)\n",
      "        3    0.000    0.000    0.000    0.000 contextlib.py:102(__init__)\n",
      "        3    0.000    0.000    0.000    0.000 contextlib.py:130(__enter__)\n",
      "        3    0.000    0.000    0.000    0.000 contextlib.py:139(__exit__)\n",
      "        3    0.000    0.000    0.000    0.000 contextlib.py:279(helper)\n",
      "        3    0.000    0.000    0.000    0.000 interactiveshell.py:1255(user_global_ns)\n",
      "        3    0.000    0.000    0.000    0.000 interactiveshell.py:3469(compare)\n",
      "        3    0.000    0.000    0.564    0.188 interactiveshell.py:3517(run_code)\n",
      "        1    0.000    0.000    0.000    0.000 iostream.py:138(_event_pipe)\n",
      "        1    0.000    0.000    0.000    0.000 iostream.py:259(schedule)\n",
      "        2    0.000    0.000    0.000    0.000 iostream.py:505(parent_header)\n",
      "        2    0.000    0.000    0.000    0.000 iostream.py:550(_is_master_process)\n",
      "        2    0.000    0.000    0.000    0.000 iostream.py:577(_schedule_flush)\n",
      "        2    0.000    0.000    0.000    0.000 iostream.py:655(write)\n",
      "        2    0.000    0.000    0.000    0.000 ipkernel.py:770(_clean_thread_parent_frames)\n",
      "        1    0.000    0.000    0.000    0.000 ipkernel.py:785(<setcomp>)\n",
      "        1    0.000    0.000    0.000    0.000 particle_simulator2.py:13(__init__)\n",
      "        1    0.564    0.564    0.564    0.564 particle_simulator2.py:16(evolve)\n",
      "        1    0.000    0.000    0.564    0.564 particle_simulator2.py:65(benchmark)\n",
      "        1    0.000    0.000    0.000    0.000 particle_simulator2.py:66(<listcomp>)\n",
      "      100    0.000    0.000    0.000    0.000 particle_simulator2.py:7(__init__)\n",
      "      300    0.000    0.000    0.000    0.000 random.py:546(uniform)\n",
      "        1    0.000    0.000    0.000    0.000 socket.py:621(send)\n",
      "        1    0.000    0.000    0.000    0.000 threading.py:1102(_wait_for_tstate_lock)\n",
      "        8    0.000    0.000    0.000    0.000 threading.py:1145(ident)\n",
      "        1    0.000    0.000    0.000    0.000 threading.py:1169(is_alive)\n",
      "        1    0.000    0.000    0.000    0.000 threading.py:1478(enumerate)\n",
      "        1    0.000    0.000    0.000    0.000 threading.py:553(is_set)\n",
      "        3    0.000    0.000    0.000    0.000 traitlets.py:629(get)\n",
      "        3    0.000    0.000    0.000    0.000 traitlets.py:676(__get__)\n",
      "        6    0.000    0.000    0.000    0.000 typing.py:1737(cast)\n",
      "        1    0.000    0.000    0.000    0.000 tz.py:74(utcoffset)\n",
      "        3    0.000    0.000    0.000    0.000 {built-in method builtins.compile}\n",
      "        3    0.000    0.000    0.564    0.188 {built-in method builtins.exec}\n",
      "        6    0.000    0.000    0.000    0.000 {built-in method builtins.getattr}\n",
      "        4    0.000    0.000    0.000    0.000 {built-in method builtins.isinstance}\n",
      "        2    0.000    0.000    0.000    0.000 {built-in method builtins.len}\n",
      "        6    0.000    0.000    0.000    0.000 {built-in method builtins.next}\n",
      "        1    0.000    0.000    0.000    0.000 {built-in method builtins.print}\n",
      "        2    0.000    0.000    0.000    0.000 {built-in method posix.getpid}\n",
      "        3    0.000    0.000    0.000    0.000 {method '__exit__' of '_thread.RLock' objects}\n",
      "        1    0.000    0.000    0.000    0.000 {method 'acquire' of '_thread.lock' objects}\n",
      "        1    0.000    0.000    0.000    0.000 {method 'append' of 'collections.deque' objects}\n",
      "        1    0.000    0.000    0.000    0.000 {method 'disable' of '_lsprof.Profiler' objects}\n",
      "        2    0.000    0.000    0.000    0.000 {method 'get' of '_contextvars.ContextVar' objects}\n",
      "        2    0.000    0.000    0.000    0.000 {method 'items' of 'dict' objects}\n",
      "        4    0.000    0.000    0.000    0.000 {method 'keys' of 'dict' objects}\n",
      "      300    0.000    0.000    0.000    0.000 {method 'random' of '_random.Random' objects}\n",
      "        2    0.000    0.000    0.000    0.000 {method 'values' of 'dict' objects}\n",
      "        2    0.000    0.000    0.000    0.000 {method 'write' of '_io.StringIO' objects}\n",
      "\n",
      "\n"
     ]
    }
   ],
   "source": [
    "pr.enable()\n",
    "benchmark()\n",
    "print('hi')\n",
    "pr.disable()\n",
    "pr.print_stats()"
   ]
  }
 ],
 "metadata": {
  "kernelspec": {
   "display_name": "Python 3 (ipykernel)",
   "language": "python",
   "name": "python3"
  },
  "language_info": {
   "codemirror_mode": {
    "name": "ipython",
    "version": 3
   },
   "file_extension": ".py",
   "mimetype": "text/x-python",
   "name": "python",
   "nbconvert_exporter": "python",
   "pygments_lexer": "ipython3",
   "version": "3.10.12"
  }
 },
 "nbformat": 4,
 "nbformat_minor": 5
}
