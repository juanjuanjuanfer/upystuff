{
 "cells": [
  {
   "cell_type": "code",
   "execution_count": 36,
   "id": "32e51f66-6bec-4306-922f-c7bdd537097d",
   "metadata": {},
   "outputs": [],
   "source": [
    "import numpy as np"
   ]
  },
  {
   "cell_type": "markdown",
   "id": "d7d4a429-86fe-416a-9357-94d51830bc41",
   "metadata": {},
   "source": [
    "# Development"
   ]
  },
  {
   "cell_type": "code",
   "execution_count": 33,
   "id": "3909e0a2-2b88-4dc2-9ca3-df4398409ad1",
   "metadata": {},
   "outputs": [
    {
     "data": {
      "text/plain": [
       "6"
      ]
     },
     "execution_count": 33,
     "metadata": {},
     "output_type": "execute_result"
    }
   ],
   "source": [
    "def fact_i(n):\n",
    "    '''\n",
    "    Fucntion to obtain factorial of n by iteration.\n",
    "    '''\n",
    "    result = 1\n",
    "    for i in range(1,n+1):\n",
    "        result = result * i\n",
    "    return result\n",
    "        \n",
    "fact_i(3)"
   ]
  },
  {
   "cell_type": "code",
   "execution_count": 35,
   "id": "d089fb8c-9336-4560-84ba-a4d5d40e3303",
   "metadata": {},
   "outputs": [
    {
     "data": {
      "text/plain": [
       "720"
      ]
     },
     "execution_count": 35,
     "metadata": {},
     "output_type": "execute_result"
    }
   ],
   "source": [
    "def fact_r(n):\n",
    "    '''\n",
    "    Function to obtain factorial of n by recurssion.\n",
    "    '''\n",
    "    if n == 0 or n == 1:\n",
    "        return 1\n",
    "    else:\n",
    "        return n * fact_r(n-1)\n",
    "        \n",
    "fact_r(6)"
   ]
  },
  {
   "cell_type": "code",
   "execution_count": 40,
   "id": "c531b393-b696-4123-91ee-08e214b93cd0",
   "metadata": {},
   "outputs": [
    {
     "data": {
      "text/plain": [
       "(22026.46579480671, 22026.465794806718)"
      ]
     },
     "execution_count": 40,
     "metadata": {},
     "output_type": "execute_result"
    }
   ],
   "source": [
    "def exp_i(x, n):\n",
    "    '''\n",
    "    Function to estimate exp(x) via Taylor Series aprroximation considering n terms.\n",
    "    '''\n",
    "    exp = 1 \n",
    "    for i in range(1,n+1):\n",
    "        exp += x ** i / fact_i(i)\n",
    "    return exp\n",
    "exp_i(10,100), np.exp(10)"
   ]
  },
  {
   "cell_type": "code",
   "execution_count": 43,
   "id": "4e24e017-ff8f-4e65-a0c0-cfaeed0f20b8",
   "metadata": {},
   "outputs": [
    {
     "data": {
      "text/plain": [
       "(22026.46579480671, 22026.465794806718)"
      ]
     },
     "execution_count": 43,
     "metadata": {},
     "output_type": "execute_result"
    }
   ],
   "source": [
    "def exp_r(x,n):\n",
    "    '''\n",
    "        Function to estimate exp(x) via Taylor Series aprroximation considering n terms.\n",
    "    '''\n",
    "    exp = 1\n",
    "    for i in range(1,n+1):\n",
    "        exp += x ** i / fact_r(i)\n",
    "    return exp\n",
    "exp_r(10,100), np.exp(10)"
   ]
  },
  {
   "cell_type": "code",
   "execution_count": 46,
   "id": "5c8dc855-7666-48f2-a05c-d7b670a70c12",
   "metadata": {},
   "outputs": [
    {
     "data": {
      "text/plain": [
       "(403.4287934927351, 403.4287934927351)"
      ]
     },
     "execution_count": 46,
     "metadata": {},
     "output_type": "execute_result"
    }
   ],
   "source": [
    "def exp_o(x,n):\n",
    "    '''\n",
    "            Function to estimate exp(x) via Taylor Series aprroximation considering n terms.\n",
    "    '''\n",
    "    exp = 1\n",
    "    factorial = 1\n",
    "    for i in range(1, n+1):\n",
    "        factorial *=i\n",
    "        exp += x ** i / (factorial)\n",
    "    return exp\n",
    "\n",
    "exp_o(6,100), np.exp(6)"
   ]
  },
  {
   "cell_type": "markdown",
   "id": "5c8106f9-49f4-45fe-a93e-ed822934d0c8",
   "metadata": {},
   "source": [
    "# Profiling"
   ]
  },
  {
   "cell_type": "code",
   "execution_count": 1,
   "id": "e1c7feb3-5708-491b-8bf8-766923d97771",
   "metadata": {},
   "outputs": [],
   "source": [
    "from factorial import benchmark\n",
    "import cProfile"
   ]
  },
  {
   "cell_type": "code",
   "execution_count": 2,
   "id": "e3468e75-8f22-43bd-9adb-e415ad42f19f",
   "metadata": {},
   "outputs": [
    {
     "name": "stdout",
     "output_type": "stream",
     "text": [
      "         5157 function calls (207 primitive calls) in 0.002 seconds\n",
      "\n",
      "   Ordered by: standard name\n",
      "\n",
      "   ncalls  tottime  percall  cumtime  percall filename:lineno(function)\n",
      "        1    0.000    0.000    0.002    0.002 <string>:1(<module>)\n",
      " 5050/100    0.001    0.000    0.001    0.000 factorial.py:11(fact_r)\n",
      "      100    0.000    0.000    0.000    0.000 factorial.py:2(fact_i)\n",
      "        1    0.000    0.000    0.000    0.000 factorial.py:20(exp_i)\n",
      "        1    0.000    0.000    0.001    0.001 factorial.py:29(exp_r)\n",
      "        1    0.000    0.000    0.000    0.000 factorial.py:38(exp_o)\n",
      "        1    0.000    0.000    0.002    0.002 factorial.py:49(benchmark)\n",
      "        1    0.000    0.000    0.002    0.002 {built-in method builtins.exec}\n",
      "        1    0.000    0.000    0.000    0.000 {method 'disable' of '_lsprof.Profiler' objects}\n",
      "\n",
      "\n"
     ]
    }
   ],
   "source": [
    "cProfile.run(\"benchmark()\")"
   ]
  },
  {
   "cell_type": "code",
   "execution_count": null,
   "id": "4ddb0207-c8b2-4103-a855-6f1d8d6edff7",
   "metadata": {},
   "outputs": [],
   "source": []
  }
 ],
 "metadata": {
  "kernelspec": {
   "display_name": "Python 3 (ipykernel)",
   "language": "python",
   "name": "python3"
  },
  "language_info": {
   "codemirror_mode": {
    "name": "ipython",
    "version": 3
   },
   "file_extension": ".py",
   "mimetype": "text/x-python",
   "name": "python",
   "nbconvert_exporter": "python",
   "pygments_lexer": "ipython3",
   "version": "3.10.12"
  }
 },
 "nbformat": 4,
 "nbformat_minor": 5
}
